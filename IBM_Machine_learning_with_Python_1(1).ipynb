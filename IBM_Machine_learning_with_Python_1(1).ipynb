{
 "cells": [
  {
   "cell_type": "markdown",
   "id": "fef03736-b97f-4574-89f3-937bf9629bb0",
   "metadata": {},
   "source": [
    "# Simple Linear Regrssion"
   ]
  },
  {
   "cell_type": "markdown",
   "id": "23542814-e707-477d-a70a-9d19d1d104c6",
   "metadata": {},
   "source": [
    "## Objectives\n",
    " * Using Scikit-learn to implement simple Linear Regression\n",
    " * Create a model\n",
    " * Train the model\n",
    " * Test the model\n",
    " * Use the model"
   ]
  },
  {
   "cell_type": "code",
   "execution_count": 141,
   "id": "8bcf5329-63aa-4146-935f-2d4b3b4714df",
   "metadata": {},
   "outputs": [],
   "source": [
    "# Importing the needed packages\n",
    "import pandas as pd\n",
    "import numpy as np\n",
    "import matplotlib.pyplot as plt\n",
    "%matplotlib inline"
   ]
  },
  {
   "cell_type": "markdown",
   "id": "9c291f3b-98b1-4111-836f-f1583e630cd6",
   "metadata": {},
   "source": [
    "## Understanding the Data\n",
    "`FuelConsumption.csv`:\n",
    "FuelComsumption dataset, `FuelConsumption.csv`, contains model-specific fuel consumption ratings and estimated carbon dioxide emissions for new light-duty \n",
    "vehicles for retail sale in canada. https://raw.githubusercontent.com/chandanverma07/DataSets/master/FuelConsumptionCo2.csv\n",
    "\n",
    "*   **MODELYEAR** e.g. 2014\n",
    "*   **MAKE** e.g. Acura\n",
    "*   **MODEL** e.g. ILX\n",
    "*   **VEHICLE CLASS** e.g. SUV\n",
    "*   **ENGINE SIZE** e.g. 4.7\n",
    "*   **CYLINDERS** e.g 6\n",
    "*   **TRANSMISSION** e.g. A6\n",
    "*   **FUEL CONSUMPTION in CITY(L/100 km)** e.g. 9.9\n",
    "*   **FUEL CONSUMPTION in HWY (L/100 km)** e.g. 8.9\n",
    "*   **FUEL CONSUMPTION COMB (L/100 km)** e.g. 9.2\n",
    "*   **CO2 EMISSIONS (g/km)** e.g. 182   --> low --> 0"
   ]
  },
  {
   "cell_type": "code",
   "execution_count": 142,
   "id": "c7fceb3b-9e98-40ec-97d2-827244eb70f7",
   "metadata": {},
   "outputs": [
    {
     "data": {
      "text/html": [
       "<div>\n",
       "<style scoped>\n",
       "    .dataframe tbody tr th:only-of-type {\n",
       "        vertical-align: middle;\n",
       "    }\n",
       "\n",
       "    .dataframe tbody tr th {\n",
       "        vertical-align: top;\n",
       "    }\n",
       "\n",
       "    .dataframe thead th {\n",
       "        text-align: right;\n",
       "    }\n",
       "</style>\n",
       "<table border=\"1\" class=\"dataframe\">\n",
       "  <thead>\n",
       "    <tr style=\"text-align: right;\">\n",
       "      <th></th>\n",
       "      <th>MODELYEAR</th>\n",
       "      <th>MAKE</th>\n",
       "      <th>MODEL</th>\n",
       "      <th>VEHICLECLASS</th>\n",
       "      <th>ENGINESIZE</th>\n",
       "      <th>CYLINDERS</th>\n",
       "      <th>TRANSMISSION</th>\n",
       "      <th>FUELTYPE</th>\n",
       "      <th>FUELCONSUMPTION_CITY</th>\n",
       "      <th>FUELCONSUMPTION_HWY</th>\n",
       "      <th>FUELCONSUMPTION_COMB</th>\n",
       "      <th>FUELCONSUMPTION_COMB_MPG</th>\n",
       "      <th>CO2EMISSIONS</th>\n",
       "    </tr>\n",
       "  </thead>\n",
       "  <tbody>\n",
       "    <tr>\n",
       "      <th>0</th>\n",
       "      <td>2014</td>\n",
       "      <td>ACURA</td>\n",
       "      <td>ILX</td>\n",
       "      <td>COMPACT</td>\n",
       "      <td>2.0</td>\n",
       "      <td>4</td>\n",
       "      <td>AS5</td>\n",
       "      <td>Z</td>\n",
       "      <td>9.9</td>\n",
       "      <td>6.7</td>\n",
       "      <td>8.5</td>\n",
       "      <td>33</td>\n",
       "      <td>196</td>\n",
       "    </tr>\n",
       "    <tr>\n",
       "      <th>1</th>\n",
       "      <td>2014</td>\n",
       "      <td>ACURA</td>\n",
       "      <td>ILX</td>\n",
       "      <td>COMPACT</td>\n",
       "      <td>2.4</td>\n",
       "      <td>4</td>\n",
       "      <td>M6</td>\n",
       "      <td>Z</td>\n",
       "      <td>11.2</td>\n",
       "      <td>7.7</td>\n",
       "      <td>9.6</td>\n",
       "      <td>29</td>\n",
       "      <td>221</td>\n",
       "    </tr>\n",
       "    <tr>\n",
       "      <th>2</th>\n",
       "      <td>2014</td>\n",
       "      <td>ACURA</td>\n",
       "      <td>ILX HYBRID</td>\n",
       "      <td>COMPACT</td>\n",
       "      <td>1.5</td>\n",
       "      <td>4</td>\n",
       "      <td>AV7</td>\n",
       "      <td>Z</td>\n",
       "      <td>6.0</td>\n",
       "      <td>5.8</td>\n",
       "      <td>5.9</td>\n",
       "      <td>48</td>\n",
       "      <td>136</td>\n",
       "    </tr>\n",
       "    <tr>\n",
       "      <th>3</th>\n",
       "      <td>2014</td>\n",
       "      <td>ACURA</td>\n",
       "      <td>MDX 4WD</td>\n",
       "      <td>SUV - SMALL</td>\n",
       "      <td>3.5</td>\n",
       "      <td>6</td>\n",
       "      <td>AS6</td>\n",
       "      <td>Z</td>\n",
       "      <td>12.7</td>\n",
       "      <td>9.1</td>\n",
       "      <td>11.1</td>\n",
       "      <td>25</td>\n",
       "      <td>255</td>\n",
       "    </tr>\n",
       "    <tr>\n",
       "      <th>4</th>\n",
       "      <td>2014</td>\n",
       "      <td>ACURA</td>\n",
       "      <td>RDX AWD</td>\n",
       "      <td>SUV - SMALL</td>\n",
       "      <td>3.5</td>\n",
       "      <td>6</td>\n",
       "      <td>AS6</td>\n",
       "      <td>Z</td>\n",
       "      <td>12.1</td>\n",
       "      <td>8.7</td>\n",
       "      <td>10.6</td>\n",
       "      <td>27</td>\n",
       "      <td>244</td>\n",
       "    </tr>\n",
       "  </tbody>\n",
       "</table>\n",
       "</div>"
      ],
      "text/plain": [
       "   MODELYEAR   MAKE       MODEL VEHICLECLASS  ENGINESIZE  CYLINDERS  \\\n",
       "0       2014  ACURA         ILX      COMPACT         2.0          4   \n",
       "1       2014  ACURA         ILX      COMPACT         2.4          4   \n",
       "2       2014  ACURA  ILX HYBRID      COMPACT         1.5          4   \n",
       "3       2014  ACURA     MDX 4WD  SUV - SMALL         3.5          6   \n",
       "4       2014  ACURA     RDX AWD  SUV - SMALL         3.5          6   \n",
       "\n",
       "  TRANSMISSION FUELTYPE  FUELCONSUMPTION_CITY  FUELCONSUMPTION_HWY  \\\n",
       "0          AS5        Z                   9.9                  6.7   \n",
       "1           M6        Z                  11.2                  7.7   \n",
       "2          AV7        Z                   6.0                  5.8   \n",
       "3          AS6        Z                  12.7                  9.1   \n",
       "4          AS6        Z                  12.1                  8.7   \n",
       "\n",
       "   FUELCONSUMPTION_COMB  FUELCONSUMPTION_COMB_MPG  CO2EMISSIONS  \n",
       "0                   8.5                        33           196  \n",
       "1                   9.6                        29           221  \n",
       "2                   5.9                        48           136  \n",
       "3                  11.1                        25           255  \n",
       "4                  10.6                        27           244  "
      ]
     },
     "execution_count": 142,
     "metadata": {},
     "output_type": "execute_result"
    }
   ],
   "source": [
    "# load the data \n",
    "df = pd.read_csv(\"./data/FuelConsumptionCo2.csv\")                 \n",
    "df.head()"
   ]
  },
  {
   "cell_type": "markdown",
   "id": "073aacf7-903b-4e01-b8f1-70dfd634e95b",
   "metadata": {},
   "source": [
    "## Data Exploration"
   ]
  },
  {
   "cell_type": "code",
   "execution_count": 143,
   "id": "22f2d933-0579-47b8-aaa4-b6a1371a70f5",
   "metadata": {},
   "outputs": [
    {
     "data": {
      "text/html": [
       "<div>\n",
       "<style scoped>\n",
       "    .dataframe tbody tr th:only-of-type {\n",
       "        vertical-align: middle;\n",
       "    }\n",
       "\n",
       "    .dataframe tbody tr th {\n",
       "        vertical-align: top;\n",
       "    }\n",
       "\n",
       "    .dataframe thead th {\n",
       "        text-align: right;\n",
       "    }\n",
       "</style>\n",
       "<table border=\"1\" class=\"dataframe\">\n",
       "  <thead>\n",
       "    <tr style=\"text-align: right;\">\n",
       "      <th></th>\n",
       "      <th>MODELYEAR</th>\n",
       "      <th>ENGINESIZE</th>\n",
       "      <th>CYLINDERS</th>\n",
       "      <th>FUELCONSUMPTION_CITY</th>\n",
       "      <th>FUELCONSUMPTION_HWY</th>\n",
       "      <th>FUELCONSUMPTION_COMB</th>\n",
       "      <th>FUELCONSUMPTION_COMB_MPG</th>\n",
       "      <th>CO2EMISSIONS</th>\n",
       "    </tr>\n",
       "  </thead>\n",
       "  <tbody>\n",
       "    <tr>\n",
       "      <th>count</th>\n",
       "      <td>1067.0</td>\n",
       "      <td>1067.000000</td>\n",
       "      <td>1067.000000</td>\n",
       "      <td>1067.000000</td>\n",
       "      <td>1067.000000</td>\n",
       "      <td>1067.000000</td>\n",
       "      <td>1067.000000</td>\n",
       "      <td>1067.000000</td>\n",
       "    </tr>\n",
       "    <tr>\n",
       "      <th>mean</th>\n",
       "      <td>2014.0</td>\n",
       "      <td>3.346298</td>\n",
       "      <td>5.794752</td>\n",
       "      <td>13.296532</td>\n",
       "      <td>9.474602</td>\n",
       "      <td>11.580881</td>\n",
       "      <td>26.441425</td>\n",
       "      <td>256.228679</td>\n",
       "    </tr>\n",
       "    <tr>\n",
       "      <th>std</th>\n",
       "      <td>0.0</td>\n",
       "      <td>1.415895</td>\n",
       "      <td>1.797447</td>\n",
       "      <td>4.101253</td>\n",
       "      <td>2.794510</td>\n",
       "      <td>3.485595</td>\n",
       "      <td>7.468702</td>\n",
       "      <td>63.372304</td>\n",
       "    </tr>\n",
       "    <tr>\n",
       "      <th>min</th>\n",
       "      <td>2014.0</td>\n",
       "      <td>1.000000</td>\n",
       "      <td>3.000000</td>\n",
       "      <td>4.600000</td>\n",
       "      <td>4.900000</td>\n",
       "      <td>4.700000</td>\n",
       "      <td>11.000000</td>\n",
       "      <td>108.000000</td>\n",
       "    </tr>\n",
       "    <tr>\n",
       "      <th>25%</th>\n",
       "      <td>2014.0</td>\n",
       "      <td>2.000000</td>\n",
       "      <td>4.000000</td>\n",
       "      <td>10.250000</td>\n",
       "      <td>7.500000</td>\n",
       "      <td>9.000000</td>\n",
       "      <td>21.000000</td>\n",
       "      <td>207.000000</td>\n",
       "    </tr>\n",
       "    <tr>\n",
       "      <th>50%</th>\n",
       "      <td>2014.0</td>\n",
       "      <td>3.400000</td>\n",
       "      <td>6.000000</td>\n",
       "      <td>12.600000</td>\n",
       "      <td>8.800000</td>\n",
       "      <td>10.900000</td>\n",
       "      <td>26.000000</td>\n",
       "      <td>251.000000</td>\n",
       "    </tr>\n",
       "    <tr>\n",
       "      <th>75%</th>\n",
       "      <td>2014.0</td>\n",
       "      <td>4.300000</td>\n",
       "      <td>8.000000</td>\n",
       "      <td>15.550000</td>\n",
       "      <td>10.850000</td>\n",
       "      <td>13.350000</td>\n",
       "      <td>31.000000</td>\n",
       "      <td>294.000000</td>\n",
       "    </tr>\n",
       "    <tr>\n",
       "      <th>max</th>\n",
       "      <td>2014.0</td>\n",
       "      <td>8.400000</td>\n",
       "      <td>12.000000</td>\n",
       "      <td>30.200000</td>\n",
       "      <td>20.500000</td>\n",
       "      <td>25.800000</td>\n",
       "      <td>60.000000</td>\n",
       "      <td>488.000000</td>\n",
       "    </tr>\n",
       "  </tbody>\n",
       "</table>\n",
       "</div>"
      ],
      "text/plain": [
       "       MODELYEAR   ENGINESIZE    CYLINDERS  FUELCONSUMPTION_CITY  \\\n",
       "count     1067.0  1067.000000  1067.000000           1067.000000   \n",
       "mean      2014.0     3.346298     5.794752             13.296532   \n",
       "std          0.0     1.415895     1.797447              4.101253   \n",
       "min       2014.0     1.000000     3.000000              4.600000   \n",
       "25%       2014.0     2.000000     4.000000             10.250000   \n",
       "50%       2014.0     3.400000     6.000000             12.600000   \n",
       "75%       2014.0     4.300000     8.000000             15.550000   \n",
       "max       2014.0     8.400000    12.000000             30.200000   \n",
       "\n",
       "       FUELCONSUMPTION_HWY  FUELCONSUMPTION_COMB  FUELCONSUMPTION_COMB_MPG  \\\n",
       "count          1067.000000           1067.000000               1067.000000   \n",
       "mean              9.474602             11.580881                 26.441425   \n",
       "std               2.794510              3.485595                  7.468702   \n",
       "min               4.900000              4.700000                 11.000000   \n",
       "25%               7.500000              9.000000                 21.000000   \n",
       "50%               8.800000             10.900000                 26.000000   \n",
       "75%              10.850000             13.350000                 31.000000   \n",
       "max              20.500000             25.800000                 60.000000   \n",
       "\n",
       "       CO2EMISSIONS  \n",
       "count   1067.000000  \n",
       "mean     256.228679  \n",
       "std       63.372304  \n",
       "min      108.000000  \n",
       "25%      207.000000  \n",
       "50%      251.000000  \n",
       "75%      294.000000  \n",
       "max      488.000000  "
      ]
     },
     "execution_count": 143,
     "metadata": {},
     "output_type": "execute_result"
    }
   ],
   "source": [
    "# summary of the data\n",
    "df.describe()"
   ]
  },
  {
   "cell_type": "code",
   "execution_count": 144,
   "id": "8051f80e-b9f0-4efa-82cc-f06ed247139f",
   "metadata": {},
   "outputs": [
    {
     "data": {
      "text/html": [
       "<div>\n",
       "<style scoped>\n",
       "    .dataframe tbody tr th:only-of-type {\n",
       "        vertical-align: middle;\n",
       "    }\n",
       "\n",
       "    .dataframe tbody tr th {\n",
       "        vertical-align: top;\n",
       "    }\n",
       "\n",
       "    .dataframe thead th {\n",
       "        text-align: right;\n",
       "    }\n",
       "</style>\n",
       "<table border=\"1\" class=\"dataframe\">\n",
       "  <thead>\n",
       "    <tr style=\"text-align: right;\">\n",
       "      <th></th>\n",
       "      <th>ENGINESIZE</th>\n",
       "      <th>CYLINDERS</th>\n",
       "      <th>FUELCONSUMPTION_COMB</th>\n",
       "      <th>CO2EMISSIONS</th>\n",
       "    </tr>\n",
       "  </thead>\n",
       "  <tbody>\n",
       "    <tr>\n",
       "      <th>0</th>\n",
       "      <td>2.0</td>\n",
       "      <td>4</td>\n",
       "      <td>8.5</td>\n",
       "      <td>196</td>\n",
       "    </tr>\n",
       "    <tr>\n",
       "      <th>1</th>\n",
       "      <td>2.4</td>\n",
       "      <td>4</td>\n",
       "      <td>9.6</td>\n",
       "      <td>221</td>\n",
       "    </tr>\n",
       "    <tr>\n",
       "      <th>2</th>\n",
       "      <td>1.5</td>\n",
       "      <td>4</td>\n",
       "      <td>5.9</td>\n",
       "      <td>136</td>\n",
       "    </tr>\n",
       "    <tr>\n",
       "      <th>3</th>\n",
       "      <td>3.5</td>\n",
       "      <td>6</td>\n",
       "      <td>11.1</td>\n",
       "      <td>255</td>\n",
       "    </tr>\n",
       "    <tr>\n",
       "      <th>4</th>\n",
       "      <td>3.5</td>\n",
       "      <td>6</td>\n",
       "      <td>10.6</td>\n",
       "      <td>244</td>\n",
       "    </tr>\n",
       "    <tr>\n",
       "      <th>5</th>\n",
       "      <td>3.5</td>\n",
       "      <td>6</td>\n",
       "      <td>10.0</td>\n",
       "      <td>230</td>\n",
       "    </tr>\n",
       "    <tr>\n",
       "      <th>6</th>\n",
       "      <td>3.5</td>\n",
       "      <td>6</td>\n",
       "      <td>10.1</td>\n",
       "      <td>232</td>\n",
       "    </tr>\n",
       "    <tr>\n",
       "      <th>7</th>\n",
       "      <td>3.7</td>\n",
       "      <td>6</td>\n",
       "      <td>11.1</td>\n",
       "      <td>255</td>\n",
       "    </tr>\n",
       "    <tr>\n",
       "      <th>8</th>\n",
       "      <td>3.7</td>\n",
       "      <td>6</td>\n",
       "      <td>11.6</td>\n",
       "      <td>267</td>\n",
       "    </tr>\n",
       "  </tbody>\n",
       "</table>\n",
       "</div>"
      ],
      "text/plain": [
       "   ENGINESIZE  CYLINDERS  FUELCONSUMPTION_COMB  CO2EMISSIONS\n",
       "0         2.0          4                   8.5           196\n",
       "1         2.4          4                   9.6           221\n",
       "2         1.5          4                   5.9           136\n",
       "3         3.5          6                  11.1           255\n",
       "4         3.5          6                  10.6           244\n",
       "5         3.5          6                  10.0           230\n",
       "6         3.5          6                  10.1           232\n",
       "7         3.7          6                  11.1           255\n",
       "8         3.7          6                  11.6           267"
      ]
     },
     "execution_count": 144,
     "metadata": {},
     "output_type": "execute_result"
    }
   ],
   "source": [
    "#selecting and visualising some features of the dataset\n",
    "\n",
    "# store the selected features into a new dataframe\n",
    "some_features = df[[\"ENGINESIZE\", \"CYLINDERS\", \"FUELCONSUMPTION_COMB\", \"CO2EMISSIONS\"]]\n",
    "some_features.head(9)"
   ]
  },
  {
   "cell_type": "code",
   "execution_count": 145,
   "id": "31b83fa5-71ea-4b27-8548-04cd7ffeecd8",
   "metadata": {},
   "outputs": [
    {
     "data": {
      "image/png": "[encoded data removed]",
      "text/plain": [
       "<Figure size 720x432 with 4 Axes>"
      ]
     },
     "metadata": {
      "needs_background": "light"
     },
     "output_type": "display_data"
    }
   ],
   "source": [
    "# Visualise the selected on a histogram\n",
    "some_features.hist(figsize = (10, 6));"
   ]
  },
  {
   "cell_type": "markdown",
   "id": "ab15ec1b-ce36-4e25-8933-2b3c223b5afd",
   "metadata": {},
   "source": [
    "Visualise the linearity of the selected features against the emission\n"
   ]
  },
  {
   "cell_type": "code",
   "execution_count": 146,
   "id": "65f9196c-7ad6-4d66-a80e-611bb7896c8f",
   "metadata": {},
   "outputs": [
    {
     "data": {
      "image/png": "[encoded data removed]",
      "text/plain": [
       "<Figure size 432x288 with 1 Axes>"
      ]
     },
     "metadata": {
      "needs_background": "light"
     },
     "output_type": "display_data"
    }
   ],
   "source": [
    "# scatter of FUELCONSUMPTION_COMB and CO2EMISSIONS\n",
    "plt.scatter(some_features[\"FUELCONSUMPTION_COMB\"], some_features[\"CO2EMISSIONS\"], c = \"green\")\n",
    "plt.xlabel(\"FUELCONSUMPTION\")\n",
    "plt.ylabel(\"Emission\");"
   ]
  },
  {
   "cell_type": "code",
   "execution_count": 147,
   "id": "b9e84d14-c71b-4733-9c85-94412bc2a1a1",
   "metadata": {},
   "outputs": [
    {
     "data": {
      "image/png": "[encoded data removed]",
      "text/plain": [
       "<Figure size 432x288 with 1 Axes>"
      ]
     },
     "metadata": {
      "needs_background": "light"
     },
     "output_type": "display_data"
    }
   ],
   "source": [
    "# scatter of CYLINDERS and CO2EMISSIONS\n",
    "plt.scatter(some_features[\"CYLINDERS\"], some_features[\"CO2EMISSIONS\"], c = \"blue\")\n",
    "plt.xlabel(\"CYLINDERS\")\n",
    "plt.ylabel(\"Emission\");"
   ]
  },
  {
   "cell_type": "code",
   "execution_count": 148,
   "id": "07b3d3ab-467c-42af-9f66-856b168a0de9",
   "metadata": {},
   "outputs": [
    {
     "data": {
      "image/png": "[encoded data removed]",
      "text/plain": [
       "<Figure size 432x288 with 1 Axes>"
      ]
     },
     "metadata": {
      "needs_background": "light"
     },
     "output_type": "display_data"
    }
   ],
   "source": [
    "# scatter of ENGINESIZE and CO2EMISSIONS\n",
    "plt.scatter(some_features[\"ENGINESIZE\"], some_features[\"CO2EMISSIONS\"], c = \"red\")\n",
    "plt.xlabel(\"ENGINESIZE\")\n",
    "plt.ylabel(\"Emission\");"
   ]
  },
  {
   "cell_type": "markdown",
   "id": "05573ebf-f3cb-4ea5-91dc-ba7ecb86310e",
   "metadata": {},
   "source": [
    "## Creating train and test dataset.\n",
    "* 80% for the train set\n",
    "* 20% for the test set"
   ]
  },
  {
   "cell_type": "code",
   "execution_count": 149,
   "id": "674d2789-68b3-4143-a5aa-dc9532b37d0d",
   "metadata": {},
   "outputs": [],
   "source": [
    "smp = np.random.rand(len(df))<0.8\n",
    "train = some_features[smp]\n",
    "test = some_features[~smp]"
   ]
  },
  {
   "cell_type": "markdown",
   "id": "e0c4e8bc-2f3e-418e-af4d-e7d075bdcc04",
   "metadata": {},
   "source": [
    "# Simple Linear Regression\n",
    "* Estimates the relationship between a dependent variable and an independent variable\n",
    "* This is done by fitting a line to the observered data\n",
    "* The line is fitted to obtain coefficients that minimize the error squared values between predicted and actual values."
   ]
  },
  {
   "cell_type": "code",
   "execution_count": 150,
   "id": "b27f763b-cbce-4466-9d36-1f3feaad195a",
   "metadata": {},
   "outputs": [
    {
     "data": {
      "image/png": "[encoded data removed]",
      "text/plain": [
       "<Figure size 432x288 with 1 Axes>"
      ]
     },
     "metadata": {
      "needs_background": "light"
     },
     "output_type": "display_data"
    }
   ],
   "source": [
    "# Visualise the train data distribution\n",
    "plt.scatter(train.ENGINESIZE, train.CO2EMISSIONS, c = \"blue\")\n",
    "plt.xlabel(\"Engine size\")\n",
    "plt.ylabel(\"Emission\");"
   ]
  },
  {
   "cell_type": "markdown",
   "id": "73d4bb52-0670-4b16-8cc6-d2809703bf09",
   "metadata": {},
   "source": [
    "## Modeling\n",
    "* Training the data using linear regression Algorithm form Scikit-learn packages"
   ]
  },
  {
   "cell_type": "code",
   "execution_count": 151,
   "id": "36a07c35-43bf-470b-9b12-ec91836d0b3e",
   "metadata": {},
   "outputs": [
    {
     "name": "stdout",
     "output_type": "stream",
     "text": [
      "coefficients:  [[39.32740276]]\n",
      "Intercept:  [124.88529838]\n"
     ]
    }
   ],
   "source": [
    "from sklearn.linear_model import LinearRegression\n",
    "\n",
    "# create an instances of the Linear_regression class\n",
    "lgr = LinearRegression()\n",
    "\n",
    "#converting the selected columns to ndarray\n",
    "train_x = np.asanyarray(train[[\"ENGINESIZE\"]])\n",
    "train_y = np.asanyarray(train[[\"CO2EMISSIONS\"]])\n",
    "\n",
    "#training the model\n",
    "lgr.fit(train_x, train_y)\n",
    "\n",
    "# printing out the coefficient  and Intercept of the regression model\n",
    "print(\"coefficients: \" ,lgr.coef_)\n",
    "print(\"Intercept: \", lgr.intercept_)\n",
    "\n"
   ]
  },
  {
   "cell_type": "markdown",
   "id": "bba1621c-ab1c-4692-b0ad-6595a4b7b3a9",
   "metadata": {},
   "source": [
    "### Plot the regression line\n",
    "* Using the coefficient and the intercept obtained from model\n",
    "* The regression line can be plotted"
   ]
  },
  {
   "cell_type": "code",
   "execution_count": 152,
   "id": "80c0430d-4a08-445b-a7db-6a9f145a80d2",
   "metadata": {},
   "outputs": [
    {
     "data": {
      "image/png": "[encoded data removed]",
      "text/plain": [
       "<Figure size 432x288 with 1 Axes>"
      ]
     },
     "metadata": {
      "needs_background": "light"
     },
     "output_type": "display_data"
    }
   ],
   "source": [
    "# Plotting the scatter\n",
    "plt.scatter(train.ENGINESIZE, train.CO2EMISSIONS, c = \"green\")\n",
    "# Plotting the regression line\n",
    "plt.plot(train_x, lgr.coef_[0][0]*train_x + lgr.intercept_[0], c = \"cyan\")\n",
    "plt.xlabel(\"Engine Size\")\n",
    "plt.ylabel(\"Emission\");\n"
   ]
  },
  {
   "cell_type": "markdown",
   "id": "0e63e259-9065-4654-ab53-6dcf1f9330ad",
   "metadata": {},
   "source": [
    "## Evaluation\n",
    "* After train the model with the train data set, prediction can be made on the test data set\n",
    "* The model would be evaluated to see how well it has learn.\n",
    "*Evvaluation metrics such as:*\n",
    "\n",
    " **Mean Absolute Error**\n",
    " \n",
    "   mean of the absolute value of the errors: mean(absolute(`predicted values` - `actual values`))\n",
    "    \n",
    " **Mean Squared Error**\n",
    " \n",
    "   mean of the squared errors sensitive to large errors: mean(absolute(`predicted values` - `actual values`)** 2) \n",
    "    \n",
    " **Root Mean Squared**\n",
    " \n",
    "   root of the mean squared errors: sqrt(mean(absolute(`predicted values` - `actual values`)**2))\n",
    "    \n",
    " **R-Squared**\n",
    " \n",
    "   gives the performance of the regression model."
   ]
  },
  {
   "cell_type": "code",
   "execution_count": 153,
   "id": "d6082d64-dd45-4f0e-9fcf-41cd6fb5ac63",
   "metadata": {},
   "outputs": [],
   "source": [
    "from sklearn.metrics import r2_score\n",
    "\n",
    "test_x =np.asanyarray(test[[\"ENGINESIZE\"]])\n",
    "test_y = np.asanyarray(test[[\"CO2EMISSIONS\"]])\n",
    "y_pred = lgr.predict(test_x)\n",
    "\n",
    "MAE = np.mean(np.absolute(y_pred - test_y))\n",
    "MSE = np.mean(np.absolute(y_pred - test_y)**2)\n",
    "r2score = r2_score(test_y, y_pred)"
   ]
  },
  {
   "cell_type": "code",
   "execution_count": 154,
   "id": "59c31fbc-d34a-4512-8e15-15cae4dabdd5",
   "metadata": {},
   "outputs": [
    {
     "data": {
      "text/plain": [
       "24.337098836023216"
      ]
     },
     "execution_count": 154,
     "metadata": {},
     "output_type": "execute_result"
    }
   ],
   "source": [
    "MAE"
   ]
  },
  {
   "cell_type": "code",
   "execution_count": 155,
   "id": "815b761d-d862-428d-a1eb-229202764043",
   "metadata": {},
   "outputs": [
    {
     "data": {
      "text/plain": [
       "1019.7544068505123"
      ]
     },
     "execution_count": 155,
     "metadata": {},
     "output_type": "execute_result"
    }
   ],
   "source": [
    "MSE"
   ]
  },
  {
   "cell_type": "code",
   "execution_count": 156,
   "id": "bfde0d5e-b27f-440c-98b5-f961bca61ce7",
   "metadata": {},
   "outputs": [
    {
     "data": {
      "text/plain": [
       "0.7412319136367909"
      ]
     },
     "execution_count": 156,
     "metadata": {},
     "output_type": "execute_result"
    }
   ],
   "source": [
    "r2score"
   ]
  },
  {
   "cell_type": "markdown",
   "id": "afc1759e-99d4-4d7b-9a4c-69bcbc0aa4a0",
   "metadata": {},
   "source": [
    "### Training and evaluating on the `FUELCOMSUMPTION_COMB`"
   ]
  },
  {
   "cell_type": "code",
   "execution_count": 158,
   "id": "f7e4ca69-4a41-4d06-aadd-5d14824a5696",
   "metadata": {},
   "outputs": [],
   "source": [
    "# create the training set of FUELCONSUMPTION_COMB\n",
    "train_x = train[[\"FUELCONSUMPTION_COMB\"]]\n",
    "\n",
    "# crete the testing set of FUELCONSUMPTION_COMB\n",
    "test_x = test[[\"FUELCONSUMPTION_COMB\"]]\n",
    "\n",
    "\n",
    "# training the model with training set\n",
    "\n",
    "lgr.fit(train_x, train_y)\n",
    "\n",
    "# make prediction on with test set\n",
    "y_pred1 = lgr.predict(test_x)\n",
    "\n",
    "\n",
    "# Evaluate the model on the predictions\n",
    "MAE1 = np.mean(np.absolute(y_pred1 - test_y))\n",
    "MSE1 = np.mean(np.absolute(y_pred1 - test_y)**2)\n",
    "r2score1 = r2_score(test_y, y_pred1)\n"
   ]
  },
  {
   "cell_type": "code",
   "execution_count": 159,
   "id": "aeacc196-1ac3-449d-b8d3-ba6d41836998",
   "metadata": {},
   "outputs": [
    {
     "data": {
      "text/plain": [
       "20.44815629167673"
      ]
     },
     "execution_count": 159,
     "metadata": {},
     "output_type": "execute_result"
    }
   ],
   "source": [
    "MAE1"
   ]
  },
  {
   "cell_type": "code",
   "execution_count": 160,
   "id": "5d7e6951-899b-459f-961c-45b3d9e62b21",
   "metadata": {},
   "outputs": [
    {
     "data": {
      "text/plain": [
       "813.4227523037608"
      ]
     },
     "execution_count": 160,
     "metadata": {},
     "output_type": "execute_result"
    }
   ],
   "source": [
    "MSE1"
   ]
  },
  {
   "cell_type": "code",
   "execution_count": 161,
   "id": "73a1e2c5-518b-42a0-8e2c-798ff250f5f0",
   "metadata": {},
   "outputs": [
    {
     "data": {
      "text/plain": [
       "0.7935896647232684"
      ]
     },
     "execution_count": 161,
     "metadata": {},
     "output_type": "execute_result"
    }
   ],
   "source": [
    "r2score1"
   ]
  },
  {
   "cell_type": "markdown",
   "id": "bba0e2e0-497b-44a7-aa4d-8250440aa99a",
   "metadata": {},
   "source": [
    "**`FUELCONSUMPTIONS_COMB` perform relative better compare to `ENGINESIZE`**"
   ]
  },
  {
   "cell_type": "markdown",
   "id": "b9ded07f-b952-4fa5-868b-98291caad8dc",
   "metadata": {},
   "source": [
    "# Polynomial Regression"
   ]
  },
  {
   "cell_type": "markdown",
   "id": "57106a03-acdf-4200-b8fb-14c4f714dd7d",
   "metadata": {},
   "source": [
    "## Objectives\n",
    " * Using Scikit-learn to implement polynomial regression\n",
    " * Create a model\n",
    " * Train the model\n",
    " * Test the model\n",
    " * Use the model"
   ]
  },
  {
   "cell_type": "markdown",
   "id": "a8ea7893-223b-4133-aba4-531d2d13957f",
   "metadata": {},
   "source": [
    "Sometimes, the trend of data is not linear, and curvy. \n",
    "Polynonial regression is used in these case\n",
    "the relationship between the independent variable x and dependent variable is modeled as an nth degree polynomial in x"
   ]
  },
  {
   "cell_type": "code",
   "execution_count": 162,
   "id": "af53af6a-8544-4c45-890c-5e88507f3a4f",
   "metadata": {},
   "outputs": [
    {
     "data": {
      "text/plain": [
       "array([[ 1.  ,  2.  ,  4.  ],\n",
       "       [ 1.  ,  2.4 ,  5.76],\n",
       "       [ 1.  ,  1.5 ,  2.25],\n",
       "       ...,\n",
       "       [ 1.  ,  3.2 , 10.24],\n",
       "       [ 1.  ,  3.  ,  9.  ],\n",
       "       [ 1.  ,  3.2 , 10.24]])"
      ]
     },
     "execution_count": 162,
     "metadata": {},
     "output_type": "execute_result"
    }
   ],
   "source": [
    "from sklearn.preprocessing import PolynomialFeatures\n",
    "\n",
    "train_x = np.asanyarray(train[[\"ENGINESIZE\"]])\n",
    "train_y = np.asanyarray(train[[\"CO2EMISSIONS\"]])\n",
    "\n",
    "\n",
    "test_x = np.asanyarray(train[[\"ENGINESIZE\"]])\n",
    "test_y = np.asanyarray(train[[\"CO2EMISSIONS\"]])\n",
    "\n",
    "# Polynomial of degree 2\n",
    "poly = PolynomialFeatures(degree = 2)\n",
    "train_x_poly = poly.fit_transform(train_x)\n",
    "train_x_poly"
   ]
  },
  {
   "cell_type": "code",
   "execution_count": 163,
   "id": "83430efe-90bd-47c7-8e59-d374a901f3d6",
   "metadata": {},
   "outputs": [],
   "source": [
    "lgr.fit(train_x_poly, train_y)\n",
    "\n",
    "coefficient = lgr.coef_\n",
    "intercepts = lgr.intercept_"
   ]
  },
  {
   "cell_type": "code",
   "execution_count": 164,
   "id": "246f2506-a2d1-4972-b14e-cc13fed4f230",
   "metadata": {},
   "outputs": [
    {
     "data": {
      "text/plain": [
       "array([[ 0.        , 49.04843354, -1.29309129]])"
      ]
     },
     "execution_count": 164,
     "metadata": {},
     "output_type": "execute_result"
    }
   ],
   "source": [
    "coefficient"
   ]
  },
  {
   "cell_type": "code",
   "execution_count": 165,
   "id": "7342abbd-940a-4df7-9e78-6b3af1bcae2e",
   "metadata": {},
   "outputs": [
    {
     "data": {
      "text/plain": [
       "array([109.40671236])"
      ]
     },
     "execution_count": 165,
     "metadata": {},
     "output_type": "execute_result"
    }
   ],
   "source": [
    "intercepts"
   ]
  },
  {
   "cell_type": "code",
   "execution_count": 166,
   "id": "0a8d4b4a-9559-42dd-a592-493f254667ab",
   "metadata": {},
   "outputs": [
    {
     "data": {
      "image/png": "[encoded data removed]",
      "text/plain": [
       "<Figure size 432x288 with 1 Axes>"
      ]
     },
     "metadata": {
      "needs_background": "light"
     },
     "output_type": "display_data"
    }
   ],
   "source": [
    "plt.scatter(train.ENGINESIZE, train.CO2EMISSIONS, c = \"green\")\n",
    "XX = np.arange(0.0, 10, 0.1)\n",
    "yy = lgr.intercept_[0] + lgr.coef_[0][1]*XX + lgr.coef_[0][2]*np.power(XX, 2)\n",
    "plt.plot(XX, yy, c = \"cyan\")\n",
    "plt.xlabel(\"Engine Size\")\n",
    "plt.ylabel(\"Emission\");"
   ]
  },
  {
   "cell_type": "code",
   "execution_count": 167,
   "id": "4afec121-8fa9-4a3e-bdbe-9ea2049d4876",
   "metadata": {},
   "outputs": [],
   "source": [
    "from sklearn.metrics import r2_score\n",
    "\n",
    "test_x_poly = poly.transform(test_x)\n",
    "y_pred = lgr.predict(test_x_poly)\n",
    "\n",
    "MAE = np.mean(np.absolute(y_pred - test_y))\n",
    "MSE = np.mean(np.absolute(y_pred - test_y)**2)\n",
    "r2score = r2_score(test_y, y_pred)"
   ]
  },
  {
   "cell_type": "code",
   "execution_count": 168,
   "id": "0da45ac8-581b-4172-82e5-e3ee5f6a12e0",
   "metadata": {},
   "outputs": [
    {
     "data": {
      "text/plain": [
       "23.158239531023376"
      ]
     },
     "execution_count": 168,
     "metadata": {},
     "output_type": "execute_result"
    }
   ],
   "source": [
    "MAE"
   ]
  },
  {
   "cell_type": "code",
   "execution_count": 169,
   "id": "d3fa33eb-ce2b-44c5-ba02-0b7c154b2fab",
   "metadata": {},
   "outputs": [
    {
     "data": {
      "text/plain": [
       "921.8165417427537"
      ]
     },
     "execution_count": 169,
     "metadata": {},
     "output_type": "execute_result"
    }
   ],
   "source": [
    "MSE"
   ]
  },
  {
   "cell_type": "code",
   "execution_count": 170,
   "id": "1f82e1a1-e59f-4aae-8431-1cb20727cbd1",
   "metadata": {},
   "outputs": [
    {
     "data": {
      "text/plain": [
       "0.7709583040482053"
      ]
     },
     "execution_count": 170,
     "metadata": {},
     "output_type": "execute_result"
    }
   ],
   "source": [
    "r2score"
   ]
  },
  {
   "cell_type": "code",
   "execution_count": 171,
   "id": "f963a46e-6ccd-4e78-9d1c-98ad9ec9d280",
   "metadata": {},
   "outputs": [
    {
     "data": {
      "text/html": [
       "<style>#sk-container-id-5 {color: black;background-color: white;}#sk-container-id-5 pre{padding: 0;}#sk-container-id-5 div.sk-toggleable {background-color: white;}#sk-container-id-5 label.sk-toggleable__label {cursor: pointer;display: block;width: 100%;margin-bottom: 0;padding: 0.3em;box-sizing: border-box;text-align: center;}#sk-container-id-5 label.sk-toggleable__label-arrow:before {content: \"▸\";float: left;margin-right: 0.25em;color: #696969;}#sk-container-id-5 label.sk-toggleable__label-arrow:hover:before {color: black;}#sk-container-id-5 div.sk-estimator:hover label.sk-toggleable__label-arrow:before {color: black;}#sk-container-id-5 div.sk-toggleable__content {max-height: 0;max-width: 0;overflow: hidden;text-align: left;background-color: #f0f8ff;}#sk-container-id-5 div.sk-toggleable__content pre {margin: 0.2em;color: black;border-radius: 0.25em;background-color: #f0f8ff;}#sk-container-id-5 input.sk-toggleable__control:checked~div.sk-toggleable__content {max-height: 200px;max-width: 100%;overflow: auto;}#sk-container-id-5 input.sk-toggleable__control:checked~label.sk-toggleable__label-arrow:before {content: \"▾\";}#sk-container-id-5 div.sk-estimator input.sk-toggleable__control:checked~label.sk-toggleable__label {background-color: #d4ebff;}#sk-container-id-5 div.sk-label input.sk-toggleable__control:checked~label.sk-toggleable__label {background-color: #d4ebff;}#sk-container-id-5 input.sk-hidden--visually {border: 0;clip: rect(1px 1px 1px 1px);clip: rect(1px, 1px, 1px, 1px);height: 1px;margin: -1px;overflow: hidden;padding: 0;position: absolute;width: 1px;}#sk-container-id-5 div.sk-estimator {font-family: monospace;background-color: #f0f8ff;border: 1px dotted black;border-radius: 0.25em;box-sizing: border-box;margin-bottom: 0.5em;}#sk-container-id-5 div.sk-estimator:hover {background-color: #d4ebff;}#sk-container-id-5 div.sk-parallel-item::after {content: \"\";width: 100%;border-bottom: 1px solid gray;flex-grow: 1;}#sk-container-id-5 div.sk-label:hover label.sk-toggleable__label {background-color: #d4ebff;}#sk-container-id-5 div.sk-serial::before {content: \"\";position: absolute;border-left: 1px solid gray;box-sizing: border-box;top: 0;bottom: 0;left: 50%;z-index: 0;}#sk-container-id-5 div.sk-serial {display: flex;flex-direction: column;align-items: center;background-color: white;padding-right: 0.2em;padding-left: 0.2em;position: relative;}#sk-container-id-5 div.sk-item {position: relative;z-index: 1;}#sk-container-id-5 div.sk-parallel {display: flex;align-items: stretch;justify-content: center;background-color: white;position: relative;}#sk-container-id-5 div.sk-item::before, #sk-container-id-5 div.sk-parallel-item::before {content: \"\";position: absolute;border-left: 1px solid gray;box-sizing: border-box;top: 0;bottom: 0;left: 50%;z-index: -1;}#sk-container-id-5 div.sk-parallel-item {display: flex;flex-direction: column;z-index: 1;position: relative;background-color: white;}#sk-container-id-5 div.sk-parallel-item:first-child::after {align-self: flex-end;width: 50%;}#sk-container-id-5 div.sk-parallel-item:last-child::after {align-self: flex-start;width: 50%;}#sk-container-id-5 div.sk-parallel-item:only-child::after {width: 0;}#sk-container-id-5 div.sk-dashed-wrapped {border: 1px dashed gray;margin: 0 0.4em 0.5em 0.4em;box-sizing: border-box;padding-bottom: 0.4em;background-color: white;}#sk-container-id-5 div.sk-label label {font-family: monospace;font-weight: bold;display: inline-block;line-height: 1.2em;}#sk-container-id-5 div.sk-label-container {text-align: center;}#sk-container-id-5 div.sk-container {/* jupyter's `normalize.less` sets `[hidden] { display: none; }` but bootstrap.min.css set `[hidden] { display: none !important; }` so we also need the `!important` here to be able to override the default hidden behavior on the sphinx rendered scikit-learn.org. See: https://github.com/scikit-learn/scikit-learn/issues/21755 */display: inline-block !important;position: relative;}#sk-container-id-5 div.sk-text-repr-fallback {display: none;}</style><div id=\"sk-container-id-5\" class=\"sk-top-container\"><div class=\"sk-text-repr-fallback\"><pre>LinearRegression()</pre><b>In a Jupyter environment, please rerun this cell to show the HTML representation or trust the notebook. <br />On GitHub, the HTML representation is unable to render, please try loading this page with nbviewer.org.</b></div><div class=\"sk-container\" hidden><div class=\"sk-item\"><div class=\"sk-estimator sk-toggleable\"><input class=\"sk-toggleable__control sk-hidden--visually\" id=\"sk-estimator-id-5\" type=\"checkbox\" checked><label for=\"sk-estimator-id-5\" class=\"sk-toggleable__label sk-toggleable__label-arrow\">LinearRegression</label><div class=\"sk-toggleable__content\"><pre>LinearRegression()</pre></div></div></div></div></div>"
      ],
      "text/plain": [
       "LinearRegression()"
      ]
     },
     "execution_count": 171,
     "metadata": {},
     "output_type": "execute_result"
    }
   ],
   "source": [
    "# Polynomial of degree 3\n",
    "poly2 = PolynomialFeatures(degree = 3)\n",
    "\n",
    "# transform the train_x in poly_train_x\n",
    "poly_x_train2 = poly2.fit_transform(train_x)\n",
    "\n",
    "# now the poly_x_train can be linearly fitted\n",
    "lgr.fit(poly_x_train2, train_y)"
   ]
  },
  {
   "cell_type": "code",
   "execution_count": 172,
   "id": "24418ddc-73d5-467a-bae4-f999d2906bb0",
   "metadata": {},
   "outputs": [
    {
     "data": {
      "text/plain": [
       "array([[ 1.   ,  2.   ,  4.   ,  8.   ],\n",
       "       [ 1.   ,  2.4  ,  5.76 , 13.824],\n",
       "       [ 1.   ,  1.5  ,  2.25 ,  3.375],\n",
       "       ...,\n",
       "       [ 1.   ,  3.2  , 10.24 , 32.768],\n",
       "       [ 1.   ,  3.   ,  9.   , 27.   ],\n",
       "       [ 1.   ,  3.2  , 10.24 , 32.768]])"
      ]
     },
     "execution_count": 172,
     "metadata": {},
     "output_type": "execute_result"
    }
   ],
   "source": [
    "poly_x_train2"
   ]
  },
  {
   "cell_type": "code",
   "execution_count": 173,
   "id": "74e0016f-a8b3-4ddb-ab13-65bd21067e58",
   "metadata": {},
   "outputs": [],
   "source": [
    "coefficient = lgr.coef_\n",
    "intercept = lgr.intercept_"
   ]
  },
  {
   "cell_type": "code",
   "execution_count": 174,
   "id": "746f1a6a-5834-40fa-a5c1-9991e4868b5c",
   "metadata": {},
   "outputs": [
    {
     "data": {
      "text/plain": [
       "array([[ 0.        , 23.63406664,  5.66559317, -0.57404886]])"
      ]
     },
     "execution_count": 174,
     "metadata": {},
     "output_type": "execute_result"
    }
   ],
   "source": [
    "coefficient"
   ]
  },
  {
   "cell_type": "code",
   "execution_count": 175,
   "id": "9c657b16-6788-44ac-9383-9c0704b17598",
   "metadata": {},
   "outputs": [
    {
     "data": {
      "text/plain": [
       "array([136.58250477])"
      ]
     },
     "execution_count": 175,
     "metadata": {},
     "output_type": "execute_result"
    }
   ],
   "source": [
    "intercept"
   ]
  },
  {
   "cell_type": "code",
   "execution_count": 176,
   "id": "aea1bd63-5e19-4193-ab90-b8be6726e113",
   "metadata": {},
   "outputs": [
    {
     "data": {
      "image/png": "[encoded data removed]",
      "text/plain": [
       "<Figure size 432x288 with 1 Axes>"
      ]
     },
     "metadata": {
      "needs_background": "light"
     },
     "output_type": "display_data"
    }
   ],
   "source": [
    "# With intercept and coefficient, plot the polynomial line\n",
    "plt.scatter(train.ENGINESIZE, train.CO2EMISSIONS, c = \"blue\")\n",
    "X = np.arange(0.0, 10, 0.1)\n",
    "Y = lgr.intercept_[0] +lgr.coef_[0][1]*X + lgr.coef_[0][2]*np.power(X, 2) + lgr.coef_[0][3]*np.power(X, 3)\n",
    "plt.plot(X, Y, c = \"cyan\")\n",
    "plt.xlabel(\"Engine size\")\n",
    "plt.ylabel(\"Emission\");"
   ]
  },
  {
   "cell_type": "code",
   "execution_count": 177,
   "id": "41fa2802-51b9-466d-8e59-6e1b55391728",
   "metadata": {},
   "outputs": [],
   "source": [
    "from sklearn.metrics import r2_score\n",
    "\n",
    "test_x_poly2 = poly2.transform(test_x)\n",
    "y_pred = lgr.predict(test_x_poly2)\n",
    "\n",
    "MAE = np.mean(np.absolute(y_pred - test_y))\n",
    "MSE = np.mean(np.absolute(y_pred - test_y)**2)\n",
    "r2score = r2_score(test_y, y_pred)"
   ]
  },
  {
   "cell_type": "code",
   "execution_count": 178,
   "id": "227d69db-ffc8-4734-a0ce-b4c2882d0e8b",
   "metadata": {},
   "outputs": [
    {
     "data": {
      "text/plain": [
       "23.0571088228187"
      ]
     },
     "execution_count": 178,
     "metadata": {},
     "output_type": "execute_result"
    }
   ],
   "source": [
    "MAE"
   ]
  },
  {
   "cell_type": "code",
   "execution_count": 179,
   "id": "6559b613-c552-4387-9539-9ae667a082b9",
   "metadata": {},
   "outputs": [
    {
     "data": {
      "text/plain": [
       "915.9713512314626"
      ]
     },
     "execution_count": 179,
     "metadata": {},
     "output_type": "execute_result"
    }
   ],
   "source": [
    "MSE"
   ]
  },
  {
   "cell_type": "code",
   "execution_count": 180,
   "id": "f3a846d0-bdbf-4c50-8db7-b1dd4ca5a545",
   "metadata": {},
   "outputs": [
    {
     "data": {
      "text/plain": [
       "0.7724106454710836"
      ]
     },
     "execution_count": 180,
     "metadata": {},
     "output_type": "execute_result"
    }
   ],
   "source": [
    "r2score"
   ]
  },
  {
   "cell_type": "markdown",
   "id": "7a877bc5-f479-4592-9679-dd96453b06e2",
   "metadata": {},
   "source": [
    "# Non Linear Regression Analysis"
   ]
  },
  {
   "cell_type": "markdown",
   "id": "b6263ca2-efb9-4578-9de2-f91c0c7582f5",
   "metadata": {},
   "source": [
    "## Objectives\n",
    "\n",
    "\n",
    "*   Differentiate between linear and non-linear regression\n",
    "*   Use non-linear regression model in Python"
   ]
  },
  {
   "cell_type": "markdown",
   "id": "6e0aa678-3636-4d77-a80a-e43b4dde9cef",
   "metadata": {},
   "source": [
    "Linear regession cannot be used for all datasets\n",
    "it models a linear relationship between dependent variable `y` and independent varaible `x`\n",
    "\n",
    "* for example `y = 2x + 3`\n"
   ]
  },
  {
   "cell_type": "code",
   "execution_count": 181,
   "id": "7eb17c20-75bd-4b85-afbb-9b1c4f1ea390",
   "metadata": {},
   "outputs": [
    {
     "data": {
      "image/png": "[encoded data removed]",
      "text/plain": [
       "<Figure size 432x288 with 1 Axes>"
      ]
     },
     "metadata": {
      "needs_background": "light"
     },
     "output_type": "display_data"
    }
   ],
   "source": [
    "x = np.arange(-5.0, 5, 0.1)\n",
    "y = 2*(x) + 3\n",
    "y_noise = 2 * np.random.normal(size =x.size)\n",
    "ydata = y + y_noise\n",
    "plt.plot(x, ydata, \"bo\")\n",
    "plt.plot(x, y, \"r\")\n",
    "plt.xlabel(\"Dependent Variable\")\n",
    "plt.ylabel(\"Independent Variable\");\n"
   ]
  },
  {
   "cell_type": "markdown",
   "id": "ae7a527e-394f-40b7-8ca0-d3926f6847ff",
   "metadata": {},
   "source": [
    "Non-linear regression is used to model non-linear relationship between the independent variable `x` and the dependent vaariable `y`\n",
    "\n",
    "* examples:\n",
    "$$ y = a x^3 + b x^2 + c x + d \\ $$\n",
    "\n",
    "$$  y = \\log(x) \\$$\n",
    "\n",
    "\n",
    "$$ y = \\log(a x^3 + b x^2 + c x + d)$$"
   ]
  },
  {
   "cell_type": "code",
   "execution_count": 182,
   "id": "6826672f-6a65-480b-aaaa-899d8d603a7d",
   "metadata": {},
   "outputs": [
    {
     "data": {
      "image/png": "[encoded data removed]",
      "text/plain": [
       "<Figure size 432x288 with 1 Axes>"
      ]
     },
     "metadata": {
      "needs_background": "light"
     },
     "output_type": "display_data"
    }
   ],
   "source": [
    "x = np.arange(-5.0, 5.0, 0.1)\n",
    "\n",
    "y = 1*(x**3) + 1*(x**2) + 1*x + 3\n",
    "y_noise = 20 * np.random.normal(size=x.size)\n",
    "ydata = y + y_noise\n",
    "plt.plot(x, ydata,  'bo')\n",
    "plt.plot(x,y, 'r') \n",
    "plt.ylabel('Dependent Variable')\n",
    "plt.xlabel('Independent Variable');"
   ]
  },
  {
   "cell_type": "markdown",
   "id": "ae621941-508a-4941-b0fb-f3e44d8dd7c5",
   "metadata": {},
   "source": [
    "**Quadratic functions**\n",
    "$$ y = x^2 $$"
   ]
  },
  {
   "cell_type": "code",
   "execution_count": 183,
   "id": "1ca756cf-799d-477c-b9a0-8228f3569f38",
   "metadata": {},
   "outputs": [
    {
     "data": {
      "image/png": "[encoded data removed]",
      "text/plain": [
       "<Figure size 432x288 with 1 Axes>"
      ]
     },
     "metadata": {
      "needs_background": "light"
     },
     "output_type": "display_data"
    }
   ],
   "source": [
    "x = np.arange(-5.0, 5.0, 0.1)\n",
    "\n",
    "##You can adjust the slope and intercept to verify the changes in the graph\n",
    "\n",
    "y = np.power(x,2)\n",
    "y_noise = 2 * np.random.normal(size=x.size)\n",
    "ydata = y + y_noise\n",
    "plt.plot(x, ydata,  'bo')\n",
    "plt.plot(x,y, 'r') \n",
    "plt.ylabel('Dependent Variable')\n",
    "plt.xlabel('Independent Variable');"
   ]
  },
  {
   "cell_type": "markdown",
   "id": "cb2c09a8-83f2-4cd7-857b-ba1b08e2f65a",
   "metadata": {},
   "source": [
    "**Exponential**\n",
    "\n",
    "$$ y = a + b c^x $$\n",
    "\n",
    "where b ≠ 0, c ≠ 1 and x is any real number. the base c is a constant and x is a variable"
   ]
  },
  {
   "cell_type": "code",
   "execution_count": 184,
   "id": "0dff4720-e467-4b1b-8dfb-aee21fc1d3db",
   "metadata": {},
   "outputs": [
    {
     "data": {
      "image/png": "[encoded data removed]",
      "text/plain": [
       "<Figure size 432x288 with 1 Axes>"
      ]
     },
     "metadata": {
      "needs_background": "light"
     },
     "output_type": "display_data"
    }
   ],
   "source": [
    "X = np.arange(-5.0, 5.0, 0.1)\n",
    "\n",
    "\n",
    "\n",
    "Y= np.exp(X)\n",
    "\n",
    "plt.plot(X,Y) \n",
    "plt.ylabel('Dependent Variable')\n",
    "plt.xlabel('Independent Variable')\n",
    "plt.show()"
   ]
  },
  {
   "cell_type": "markdown",
   "id": "3917bfc6-2822-4828-afe3-193d40ac6357",
   "metadata": {},
   "source": [
    "**Logarithmic**\n",
    "$$ y = log(x) $$\n",
    "\n",
    "$$ y = log(X) $$  **X** a polynomial representation of the x values\n"
   ]
  },
  {
   "cell_type": "code",
   "execution_count": 185,
   "id": "6a398eb7-8608-4feb-b4fb-3440682ba455",
   "metadata": {},
   "outputs": [
    {
     "name": "stderr",
     "output_type": "stream",
     "text": [
      "C:\\Users\\ahiab\\AppData\\Local\\Temp\\ipykernel_13424\\2233958358.py:3: RuntimeWarning: invalid value encountered in log\n",
      "  Y = np.log(X)\n"
     ]
    },
    {
     "data": {
      "image/png": "[encoded data removed]",
      "text/plain": [
       "<Figure size 432x288 with 1 Axes>"
      ]
     },
     "metadata": {
      "needs_background": "light"
     },
     "output_type": "display_data"
    }
   ],
   "source": [
    "X = np.arange(-5.0, 5.0, 0.1)\n",
    "\n",
    "Y = np.log(X)\n",
    "\n",
    "plt.plot(X,Y) \n",
    "plt.ylabel('Dependent Variable')\n",
    "plt.xlabel('Independent Variable')\n",
    "plt.show()"
   ]
  },
  {
   "cell_type": "markdown",
   "id": "4f956a0b-b51c-48fe-af2a-b1f8f041bd51",
   "metadata": {},
   "source": [
    "**Sigmoidal / Logistic**\n",
    "\n",
    "$$ Y = a + \\frac{b}{1+ c^{(X-d)}}$$"
   ]
  },
  {
   "cell_type": "code",
   "execution_count": 186,
   "id": "243a2a76-c2ba-40b0-afef-4c15279f8320",
   "metadata": {},
   "outputs": [
    {
     "data": {
      "image/png": "[encoded data removed]",
      "text/plain": [
       "<Figure size 432x288 with 1 Axes>"
      ]
     },
     "metadata": {
      "needs_background": "light"
     },
     "output_type": "display_data"
    }
   ],
   "source": [
    "X = np.arange(-5.0, 5.0, 0.1)\n",
    "\n",
    "\n",
    "Y = 1-4/(1+np.power(3, X-2))\n",
    "\n",
    "plt.plot(X,Y) \n",
    "plt.ylabel('Dependent Variable')\n",
    "plt.xlabel('Independent Variable');"
   ]
  },
  {
   "cell_type": "code",
   "execution_count": 187,
   "id": "3bc9d568-6023-441e-aab8-610ceb15cce7",
   "metadata": {},
   "outputs": [
    {
     "data": {
      "text/html": [
       "<div>\n",
       "<style scoped>\n",
       "    .dataframe tbody tr th:only-of-type {\n",
       "        vertical-align: middle;\n",
       "    }\n",
       "\n",
       "    .dataframe tbody tr th {\n",
       "        vertical-align: top;\n",
       "    }\n",
       "\n",
       "    .dataframe thead th {\n",
       "        text-align: right;\n",
       "    }\n",
       "</style>\n",
       "<table border=\"1\" class=\"dataframe\">\n",
       "  <thead>\n",
       "    <tr style=\"text-align: right;\">\n",
       "      <th></th>\n",
       "      <th>Year</th>\n",
       "      <th>Value</th>\n",
       "    </tr>\n",
       "  </thead>\n",
       "  <tbody>\n",
       "    <tr>\n",
       "      <th>0</th>\n",
       "      <td>1960</td>\n",
       "      <td>5.918412e+10</td>\n",
       "    </tr>\n",
       "    <tr>\n",
       "      <th>1</th>\n",
       "      <td>1961</td>\n",
       "      <td>4.955705e+10</td>\n",
       "    </tr>\n",
       "    <tr>\n",
       "      <th>2</th>\n",
       "      <td>1962</td>\n",
       "      <td>4.668518e+10</td>\n",
       "    </tr>\n",
       "    <tr>\n",
       "      <th>3</th>\n",
       "      <td>1963</td>\n",
       "      <td>5.009730e+10</td>\n",
       "    </tr>\n",
       "    <tr>\n",
       "      <th>4</th>\n",
       "      <td>1964</td>\n",
       "      <td>5.906225e+10</td>\n",
       "    </tr>\n",
       "    <tr>\n",
       "      <th>5</th>\n",
       "      <td>1965</td>\n",
       "      <td>6.970915e+10</td>\n",
       "    </tr>\n",
       "    <tr>\n",
       "      <th>6</th>\n",
       "      <td>1966</td>\n",
       "      <td>7.587943e+10</td>\n",
       "    </tr>\n",
       "    <tr>\n",
       "      <th>7</th>\n",
       "      <td>1967</td>\n",
       "      <td>7.205703e+10</td>\n",
       "    </tr>\n",
       "    <tr>\n",
       "      <th>8</th>\n",
       "      <td>1968</td>\n",
       "      <td>6.999350e+10</td>\n",
       "    </tr>\n",
       "    <tr>\n",
       "      <th>9</th>\n",
       "      <td>1969</td>\n",
       "      <td>7.871882e+10</td>\n",
       "    </tr>\n",
       "  </tbody>\n",
       "</table>\n",
       "</div>"
      ],
      "text/plain": [
       "   Year         Value\n",
       "0  1960  5.918412e+10\n",
       "1  1961  4.955705e+10\n",
       "2  1962  4.668518e+10\n",
       "3  1963  5.009730e+10\n",
       "4  1964  5.906225e+10\n",
       "5  1965  6.970915e+10\n",
       "6  1966  7.587943e+10\n",
       "7  1967  7.205703e+10\n",
       "8  1968  6.999350e+10\n",
       "9  1969  7.871882e+10"
      ]
     },
     "execution_count": 187,
     "metadata": {},
     "output_type": "execute_result"
    }
   ],
   "source": [
    "df1 = pd.read_csv(\"china_gdp.csv\")\n",
    "df1.head(10)"
   ]
  },
  {
   "cell_type": "markdown",
   "id": "34c59cce-314a-4402-8aac-3acc285469a8",
   "metadata": {},
   "source": [
    "**Visualising the dataset**"
   ]
  },
  {
   "cell_type": "code",
   "execution_count": 188,
   "id": "c1cc1074-4322-4c90-b1cb-dc9ce602dcd7",
   "metadata": {},
   "outputs": [
    {
     "data": {
      "image/png": "[encoded data removed]",
      "text/plain": [
       "<Figure size 576x360 with 1 Axes>"
      ]
     },
     "metadata": {
      "needs_background": "light"
     },
     "output_type": "display_data"
    }
   ],
   "source": [
    "plt.figure(figsize = (8, 5))\n",
    "x_data, y_data = (df1[\"Year\"].values, df1[\"Value\"].values)\n",
    "plt.plot(x_data, y_data, \"ro\")\n",
    "plt.xlabel(\"GDP\")\n",
    "plt.ylabel(\"Year\");"
   ]
  },
  {
   "cell_type": "markdown",
   "id": "66a17098-b9f8-4532-96c8-725124dfaa51",
   "metadata": {},
   "source": [
    "**Chosing a model**\n",
    "from the plot, we determine that logistic function could be a good approximation. The plot :\n",
    "* started with a slow growth\n",
    "* increasing growth in the middle"
   ]
  },
  {
   "cell_type": "code",
   "execution_count": 189,
   "id": "6e64c3c6-b15a-4a45-a2bd-792650463e5b",
   "metadata": {},
   "outputs": [
    {
     "data": {
      "image/png": "[encoded data removed]",
      "text/plain": [
       "<Figure size 432x288 with 1 Axes>"
      ]
     },
     "metadata": {
      "needs_background": "light"
     },
     "output_type": "display_data"
    }
   ],
   "source": [
    "# simoidal / logistic\n",
    "X = np.arange(-5.0, 5.0, 0.1)\n",
    "Y = 1.0 / (1.0 + np.exp(-X))\n",
    "\n",
    "plt.plot(X,Y) \n",
    "plt.ylabel('Dependent Variable')\n",
    "plt.xlabel('Independent Variable');"
   ]
  },
  {
   "cell_type": "markdown",
   "id": "1ab683ce-6360-4a37-ba5c-195f70439be6",
   "metadata": {},
   "source": [
    "The formula for the logistic function is the following:\n",
    "\n",
    "$$ \\hat{Y} = \\frac1{1+e^{-\\beta\\_1(X-\\beta\\_2)}}$$\n",
    "\n",
    "$\\beta\\_1$: Controls the curve's steepness,\n",
    "\n",
    "$\\beta\\_2$: Slides the curve on the x-axis."
   ]
  },
  {
   "cell_type": "markdown",
   "id": "d9351183-adc0-4f4f-81eb-f7f87ced35ba",
   "metadata": {},
   "source": [
    "**Building The Model**"
   ]
  },
  {
   "cell_type": "code",
   "execution_count": 190,
   "id": "7886563b-e34c-4177-8a4a-6d8de1731944",
   "metadata": {},
   "outputs": [],
   "source": [
    "def sigmoid(x,Beta_1, Beta_2):\n",
    "    y = 1 / (1 + np.exp(-Beta_1 * (x-Beta_2)))\n",
    "    return y"
   ]
  },
  {
   "cell_type": "code",
   "execution_count": 191,
   "id": "8833edb6-b9a0-435e-be26-a8d716ea1ed7",
   "metadata": {},
   "outputs": [
    {
     "data": {
      "image/png": "[encoded data removed]",
      "text/plain": [
       "<Figure size 432x288 with 1 Axes>"
      ]
     },
     "metadata": {
      "needs_background": "light"
     },
     "output_type": "display_data"
    }
   ],
   "source": [
    "# sample sigmoid line that might fit with the data\n",
    "\n",
    "beta_1 = 0.10\n",
    "beta_2 = 1990.0\n",
    "\n",
    "# logistic function\n",
    "Y_pred = sigmoid(x_data, beta_1, beta_2)\n",
    "\n",
    "# Plotting the prediction against the datapoints\n",
    "plt.plot(x_data, Y_pred*15000000000000)\n",
    "plt.plot(x_data, y_data, \"ro\");"
   ]
  },
  {
   "cell_type": "markdown",
   "id": "02ee0227-d452-4586-81ae-ed91d3a6b9d0",
   "metadata": {},
   "source": [
    "finding the best parameters for the model"
   ]
  },
  {
   "cell_type": "code",
   "execution_count": 192,
   "id": "ceaf0a38-0b2e-44c3-8b70-1400aa0aae1f",
   "metadata": {},
   "outputs": [],
   "source": [
    "# Normalising the dat\n",
    "xdata = x_data / max(x_data)\n",
    "ydata = y_data/max(y_data)"
   ]
  },
  {
   "cell_type": "markdown",
   "id": "2bed1820-fe3c-4c10-b265-4ddf58ef289d",
   "metadata": {},
   "source": [
    "**Curve_fit**\n",
    "* Uses the nno-linear least squares to fit our sigmoid function, to the data\n",
    "* This optimize values for the parameters so that the sum of the squared residuals of sigmoid(xdata, *popt) - ydata is minimized.\n",
    "* popt are our optimized parameters."
   ]
  },
  {
   "cell_type": "code",
   "execution_count": 193,
   "id": "ea93d886-9409-4f2a-ab27-670aaeadd4e4",
   "metadata": {},
   "outputs": [
    {
     "name": "stdout",
     "output_type": "stream",
     "text": [
      " beta_1 = 690.451712, beta_2 = 0.997207\n"
     ]
    }
   ],
   "source": [
    "from scipy.optimize import curve_fit\n",
    "popt, pcov = curve_fit(sigmoid, xdata, ydata)\n",
    "#printing out the final parameters\n",
    "print(\" beta_1 = %f, beta_2 = %f\" % (popt[0], popt[1]))"
   ]
  },
  {
   "cell_type": "markdown",
   "id": "b0e54414-f188-4d8a-a3f0-0af5f1d150dd",
   "metadata": {},
   "source": [
    "Plot the resulting regression model"
   ]
  },
  {
   "cell_type": "code",
   "execution_count": 194,
   "id": "8b502b5d-5d22-4969-98ae-e701af593124",
   "metadata": {},
   "outputs": [
    {
     "data": {
      "image/png": "[encoded data removed]",
      "text/plain": [
       "<Figure size 576x360 with 1 Axes>"
      ]
     },
     "metadata": {
      "needs_background": "light"
     },
     "output_type": "display_data"
    }
   ],
   "source": [
    "x = np.linspace(1960, 2015, 55)\n",
    "x = x/max(x)\n",
    "plt.figure(figsize = (8, 5))\n",
    "y = sigmoid(x, *popt)\n",
    "plt.plot(xdata, ydata, \"ro\", label = \"data\")\n",
    "plt.plot(x, y, linewidth = 3.0, label = \"fit\")\n",
    "plt.legend(loc = \"best\")\n",
    "plt.ylabel(\"GDP\")\n",
    "plt.xlabel(\"'Year\");"
   ]
  },
  {
   "cell_type": "markdown",
   "id": "8ccbe16a-337a-496a-b6be-4d5c55868267",
   "metadata": {},
   "source": [
    " calculate the accuracy\n",
    "\n"
   ]
  },
  {
   "cell_type": "code",
   "execution_count": 197,
   "id": "584c59e8-f383-4628-99c7-99a7bd7d82a8",
   "metadata": {},
   "outputs": [],
   "source": [
    "# split data into train and test set\n",
    "msk = np.random.rand(len(df1)) < 0.8\n",
    "train_x = xdata[msk]\n",
    "test_x = xdata[~msk]\n",
    "train_y = ydata[msk]\n",
    "test_y = ydata[~msk]\n",
    "\n",
    "# build the model using train set\n",
    "popt, pcov =curve_fit(sigmoid, train_x, train_y)\n",
    "\n",
    "\n",
    "# predict using test set\n",
    "y_hat = sigmoid(test_x, *popt)\n",
    "\n",
    "\n",
    "# evaluation\n",
    "MAE = np.mean(np.absolute(y_hat - test_y))\n",
    "MSE = np.mean(np.absolute(y_hat - test_y)**2)\n",
    "\n",
    "from sklearn.metrics import r2_score\n",
    "r2score3 = r2_score(test_y, y_hat)"
   ]
  },
  {
   "cell_type": "code",
   "execution_count": 198,
   "id": "6906b381-cec2-452c-a25f-799b203a581f",
   "metadata": {},
   "outputs": [
    {
     "data": {
      "text/plain": [
       "0.024208896569214187"
      ]
     },
     "execution_count": 198,
     "metadata": {},
     "output_type": "execute_result"
    }
   ],
   "source": [
    "MAE"
   ]
  },
  {
   "cell_type": "code",
   "execution_count": 199,
   "id": "b6c80eb7-6405-4560-a935-4eda4e2a83f0",
   "metadata": {},
   "outputs": [
    {
     "data": {
      "text/plain": [
       "0.0011977064287619695"
      ]
     },
     "execution_count": 199,
     "metadata": {},
     "output_type": "execute_result"
    }
   ],
   "source": [
    "MSE"
   ]
  },
  {
   "cell_type": "code",
   "execution_count": 200,
   "id": "09ec6277-4f0f-4c29-9504-1b31de8afaf1",
   "metadata": {},
   "outputs": [
    {
     "data": {
      "text/plain": [
       "0.9748076114672046"
      ]
     },
     "execution_count": 200,
     "metadata": {},
     "output_type": "execute_result"
    }
   ],
   "source": [
    "r2score3"
   ]
  },
  {
   "cell_type": "markdown",
   "id": "6fd9160b-503e-4864-bc50-1d34bbd2232e",
   "metadata": {},
   "source": [
    "# Multiple Linear Regression\n",
    "\n",
    "## Objectives\n",
    " * Using Scikit-learn to implement Multiple Linear Regression\n",
    " * Create a model\n",
    " * Train the model\n",
    " * Test the model\n",
    " * Use the model"
   ]
  },
  {
   "cell_type": "markdown",
   "id": "584ee49e-8243-43ed-9847-69fdbfa5a4f9",
   "metadata": {},
   "source": [
    "Using `FUelConsumption.csv` dataset used in Linear Regressionm"
   ]
  },
  {
   "cell_type": "code",
   "execution_count": 212,
   "id": "e473b954-7f51-4517-8d20-a45f7fd9f89a",
   "metadata": {},
   "outputs": [
    {
     "data": {
      "text/html": [
       "<div>\n",
       "<style scoped>\n",
       "    .dataframe tbody tr th:only-of-type {\n",
       "        vertical-align: middle;\n",
       "    }\n",
       "\n",
       "    .dataframe tbody tr th {\n",
       "        vertical-align: top;\n",
       "    }\n",
       "\n",
       "    .dataframe thead th {\n",
       "        text-align: right;\n",
       "    }\n",
       "</style>\n",
       "<table border=\"1\" class=\"dataframe\">\n",
       "  <thead>\n",
       "    <tr style=\"text-align: right;\">\n",
       "      <th></th>\n",
       "      <th>MODELYEAR</th>\n",
       "      <th>MAKE</th>\n",
       "      <th>MODEL</th>\n",
       "      <th>VEHICLECLASS</th>\n",
       "      <th>ENGINESIZE</th>\n",
       "      <th>CYLINDERS</th>\n",
       "      <th>TRANSMISSION</th>\n",
       "      <th>FUELTYPE</th>\n",
       "      <th>FUELCONSUMPTION_CITY</th>\n",
       "      <th>FUELCONSUMPTION_HWY</th>\n",
       "      <th>FUELCONSUMPTION_COMB</th>\n",
       "      <th>FUELCONSUMPTION_COMB_MPG</th>\n",
       "      <th>CO2EMISSIONS</th>\n",
       "    </tr>\n",
       "  </thead>\n",
       "  <tbody>\n",
       "    <tr>\n",
       "      <th>0</th>\n",
       "      <td>2014</td>\n",
       "      <td>ACURA</td>\n",
       "      <td>ILX</td>\n",
       "      <td>COMPACT</td>\n",
       "      <td>2.0</td>\n",
       "      <td>4</td>\n",
       "      <td>AS5</td>\n",
       "      <td>Z</td>\n",
       "      <td>9.9</td>\n",
       "      <td>6.7</td>\n",
       "      <td>8.5</td>\n",
       "      <td>33</td>\n",
       "      <td>196</td>\n",
       "    </tr>\n",
       "    <tr>\n",
       "      <th>1</th>\n",
       "      <td>2014</td>\n",
       "      <td>ACURA</td>\n",
       "      <td>ILX</td>\n",
       "      <td>COMPACT</td>\n",
       "      <td>2.4</td>\n",
       "      <td>4</td>\n",
       "      <td>M6</td>\n",
       "      <td>Z</td>\n",
       "      <td>11.2</td>\n",
       "      <td>7.7</td>\n",
       "      <td>9.6</td>\n",
       "      <td>29</td>\n",
       "      <td>221</td>\n",
       "    </tr>\n",
       "    <tr>\n",
       "      <th>2</th>\n",
       "      <td>2014</td>\n",
       "      <td>ACURA</td>\n",
       "      <td>ILX HYBRID</td>\n",
       "      <td>COMPACT</td>\n",
       "      <td>1.5</td>\n",
       "      <td>4</td>\n",
       "      <td>AV7</td>\n",
       "      <td>Z</td>\n",
       "      <td>6.0</td>\n",
       "      <td>5.8</td>\n",
       "      <td>5.9</td>\n",
       "      <td>48</td>\n",
       "      <td>136</td>\n",
       "    </tr>\n",
       "    <tr>\n",
       "      <th>3</th>\n",
       "      <td>2014</td>\n",
       "      <td>ACURA</td>\n",
       "      <td>MDX 4WD</td>\n",
       "      <td>SUV - SMALL</td>\n",
       "      <td>3.5</td>\n",
       "      <td>6</td>\n",
       "      <td>AS6</td>\n",
       "      <td>Z</td>\n",
       "      <td>12.7</td>\n",
       "      <td>9.1</td>\n",
       "      <td>11.1</td>\n",
       "      <td>25</td>\n",
       "      <td>255</td>\n",
       "    </tr>\n",
       "    <tr>\n",
       "      <th>4</th>\n",
       "      <td>2014</td>\n",
       "      <td>ACURA</td>\n",
       "      <td>RDX AWD</td>\n",
       "      <td>SUV - SMALL</td>\n",
       "      <td>3.5</td>\n",
       "      <td>6</td>\n",
       "      <td>AS6</td>\n",
       "      <td>Z</td>\n",
       "      <td>12.1</td>\n",
       "      <td>8.7</td>\n",
       "      <td>10.6</td>\n",
       "      <td>27</td>\n",
       "      <td>244</td>\n",
       "    </tr>\n",
       "  </tbody>\n",
       "</table>\n",
       "</div>"
      ],
      "text/plain": [
       "   MODELYEAR   MAKE       MODEL VEHICLECLASS  ENGINESIZE  CYLINDERS  \\\n",
       "0       2014  ACURA         ILX      COMPACT         2.0          4   \n",
       "1       2014  ACURA         ILX      COMPACT         2.4          4   \n",
       "2       2014  ACURA  ILX HYBRID      COMPACT         1.5          4   \n",
       "3       2014  ACURA     MDX 4WD  SUV - SMALL         3.5          6   \n",
       "4       2014  ACURA     RDX AWD  SUV - SMALL         3.5          6   \n",
       "\n",
       "  TRANSMISSION FUELTYPE  FUELCONSUMPTION_CITY  FUELCONSUMPTION_HWY  \\\n",
       "0          AS5        Z                   9.9                  6.7   \n",
       "1           M6        Z                  11.2                  7.7   \n",
       "2          AV7        Z                   6.0                  5.8   \n",
       "3          AS6        Z                  12.7                  9.1   \n",
       "4          AS6        Z                  12.1                  8.7   \n",
       "\n",
       "   FUELCONSUMPTION_COMB  FUELCONSUMPTION_COMB_MPG  CO2EMISSIONS  \n",
       "0                   8.5                        33           196  \n",
       "1                   9.6                        29           221  \n",
       "2                   5.9                        48           136  \n",
       "3                  11.1                        25           255  \n",
       "4                  10.6                        27           244  "
      ]
     },
     "execution_count": 212,
     "metadata": {},
     "output_type": "execute_result"
    }
   ],
   "source": [
    "df.head()"
   ]
  },
  {
   "cell_type": "code",
   "execution_count": 228,
   "id": "9431b77b-735d-424d-94df-b3432d2a9ed7",
   "metadata": {},
   "outputs": [
    {
     "data": {
      "text/html": [
       "<div>\n",
       "<style scoped>\n",
       "    .dataframe tbody tr th:only-of-type {\n",
       "        vertical-align: middle;\n",
       "    }\n",
       "\n",
       "    .dataframe tbody tr th {\n",
       "        vertical-align: top;\n",
       "    }\n",
       "\n",
       "    .dataframe thead th {\n",
       "        text-align: right;\n",
       "    }\n",
       "</style>\n",
       "<table border=\"1\" class=\"dataframe\">\n",
       "  <thead>\n",
       "    <tr style=\"text-align: right;\">\n",
       "      <th></th>\n",
       "      <th>ENGINESIZE</th>\n",
       "      <th>CYLINDERS</th>\n",
       "      <th>FUELCONSUMPTION_COMB</th>\n",
       "      <th>CO2EMISSIONS</th>\n",
       "    </tr>\n",
       "  </thead>\n",
       "  <tbody>\n",
       "    <tr>\n",
       "      <th>0</th>\n",
       "      <td>2.0</td>\n",
       "      <td>4</td>\n",
       "      <td>8.5</td>\n",
       "      <td>196</td>\n",
       "    </tr>\n",
       "    <tr>\n",
       "      <th>1</th>\n",
       "      <td>2.4</td>\n",
       "      <td>4</td>\n",
       "      <td>9.6</td>\n",
       "      <td>221</td>\n",
       "    </tr>\n",
       "    <tr>\n",
       "      <th>2</th>\n",
       "      <td>1.5</td>\n",
       "      <td>4</td>\n",
       "      <td>5.9</td>\n",
       "      <td>136</td>\n",
       "    </tr>\n",
       "    <tr>\n",
       "      <th>3</th>\n",
       "      <td>3.5</td>\n",
       "      <td>6</td>\n",
       "      <td>11.1</td>\n",
       "      <td>255</td>\n",
       "    </tr>\n",
       "    <tr>\n",
       "      <th>4</th>\n",
       "      <td>3.5</td>\n",
       "      <td>6</td>\n",
       "      <td>10.6</td>\n",
       "      <td>244</td>\n",
       "    </tr>\n",
       "  </tbody>\n",
       "</table>\n",
       "</div>"
      ],
      "text/plain": [
       "   ENGINESIZE  CYLINDERS  FUELCONSUMPTION_COMB  CO2EMISSIONS\n",
       "0         2.0          4                   8.5           196\n",
       "1         2.4          4                   9.6           221\n",
       "2         1.5          4                   5.9           136\n",
       "3         3.5          6                  11.1           255\n",
       "4         3.5          6                  10.6           244"
      ]
     },
     "execution_count": 228,
     "metadata": {},
     "output_type": "execute_result"
    }
   ],
   "source": [
    "some_features.head()"
   ]
  },
  {
   "cell_type": "code",
   "execution_count": 229,
   "id": "d8d2f996-45ec-41b6-8392-a1f79c53b919",
   "metadata": {},
   "outputs": [],
   "source": [
    "# split data into train and test\n",
    "msk = np.random.rand(len(df)) < 0.8\n",
    "train = some_features[msk]\n",
    "test = some_features[~msk]"
   ]
  },
  {
   "cell_type": "code",
   "execution_count": 230,
   "id": "615f8a54-47cc-43e7-8a2d-fab27811b889",
   "metadata": {},
   "outputs": [
    {
     "data": {
      "image/png": "[encoded data removed]",
      "text/plain": [
       "<Figure size 432x288 with 1 Axes>"
      ]
     },
     "metadata": {
      "needs_background": "light"
     },
     "output_type": "display_data"
    }
   ],
   "source": [
    "plt.scatter(some_features.ENGINESIZE, some_features.CO2EMISSIONS, c = \"blue\")\n",
    "plt.xlabel(\"Engine size\")\n",
    "plt.ylabel(\"Emission\");"
   ]
  },
  {
   "cell_type": "markdown",
   "id": "22717076-b44f-42f7-b3e6-ff78835dc41b",
   "metadata": {},
   "source": [
    "**Multiple Linear Regression**"
   ]
  },
  {
   "cell_type": "code",
   "execution_count": 231,
   "id": "3320fcdb-ef12-4c41-9502-02d472d410f8",
   "metadata": {},
   "outputs": [],
   "source": [
    "from sklearn.linear_model import LinearRegression\n",
    "\n",
    "rgr = LinearRegression()\n",
    "x = np.asanyarray(train[[\"ENGINESIZE\", \"CYLINDERS\", \"FUELCONSUMPTION_COMB\"]])\n",
    "y = np.asanyarray(train[[\"CO2EMISSIONS\"]])\n",
    "rgr.fit(x, y)\n",
    "\n",
    "coefficient = rgr.coef_\n",
    "intercept = rgr.intercept_"
   ]
  },
  {
   "cell_type": "code",
   "execution_count": 232,
   "id": "ce37f487-790b-47af-bf06-c9fe25bced0d",
   "metadata": {},
   "outputs": [
    {
     "data": {
      "text/plain": [
       "array([[ 9.8990524 ,  7.51635428, 10.13629234]])"
      ]
     },
     "execution_count": 232,
     "metadata": {},
     "output_type": "execute_result"
    }
   ],
   "source": [
    "coefficient"
   ]
  },
  {
   "cell_type": "code",
   "execution_count": 233,
   "id": "1ed52fdb-111c-46e2-b7f4-2a5f7e770496",
   "metadata": {},
   "outputs": [
    {
     "data": {
      "text/plain": [
       "array([62.57519998])"
      ]
     },
     "execution_count": 233,
     "metadata": {},
     "output_type": "execute_result"
    }
   ],
   "source": [
    "intercept"
   ]
  },
  {
   "cell_type": "code",
   "execution_count": 234,
   "id": "1213484f-c9d9-4c87-b6f3-2b83cc14ebc1",
   "metadata": {},
   "outputs": [
    {
     "name": "stderr",
     "output_type": "stream",
     "text": [
      "C:\\Users\\ahiab\\OneDrive\\Desktop\\HomeLLc_project\\env\\lib\\site-packages\\sklearn\\base.py:443: UserWarning: X has feature names, but LinearRegression was fitted without feature names\n",
      "  warnings.warn(\n"
     ]
    }
   ],
   "source": [
    "y_hat = rgr.predict(test[[\"ENGINESIZE\", \"CYLINDERS\", \"FUELCONSUMPTION_COMB\"]])\n",
    "x = np.asanyarray(test[[\"ENGINESIZE\", \"CYLINDERS\", \"FUELCONSUMPTION_COMB\"]])\n",
    "y = np.asanyarray(test[[\"CO2EMISSIONS\"]])\n",
    "\n",
    "MSE = np.mean((y_hat - y)**2)\n",
    "variance = rgr.score(x, y)"
   ]
  },
  {
   "cell_type": "code",
   "execution_count": 235,
   "id": "8fad518f-bae1-4cb1-b761-a0ec29a0a429",
   "metadata": {},
   "outputs": [
    {
     "data": {
      "text/plain": [
       "564.1550820240757"
      ]
     },
     "execution_count": 235,
     "metadata": {},
     "output_type": "execute_result"
    }
   ],
   "source": [
    "MSE"
   ]
  },
  {
   "cell_type": "code",
   "execution_count": 236,
   "id": "a9893dd6-0276-49d8-82e0-d61ba66659e2",
   "metadata": {},
   "outputs": [
    {
     "data": {
      "text/plain": [
       "0.8612181413603568"
      ]
     },
     "execution_count": 236,
     "metadata": {},
     "output_type": "execute_result"
    }
   ],
   "source": [
    "variance"
   ]
  },
  {
   "cell_type": "markdown",
   "id": "e8d8db16-45be-46bb-9dcf-ae0d5b2b8658",
   "metadata": {},
   "source": [
    "\n",
    "$\\texttt{explainedVariance}(y, \\hat{y}) = 1 - \\frac{Var{ y - \\hat{y}}}{Var{y}}$\\\n",
    "The best possible score is 1.0, the lower values are worse."
   ]
  },
  {
   "cell_type": "code",
   "execution_count": 238,
   "id": "3e4a026c-2c14-4590-a251-858a16f19926",
   "metadata": {},
   "outputs": [],
   "source": [
    "new_features = df[[\"ENGINESIZE\", \"CYLINDERS\", \"FUELCONSUMPTION_HWY\", \"FUELCONSUMPTION_CITY\", \"CO2EMISSIONS\"]]"
   ]
  },
  {
   "cell_type": "code",
   "execution_count": 239,
   "id": "528f28ae-23ec-439d-890f-1dc1ca80d768",
   "metadata": {},
   "outputs": [
    {
     "data": {
      "text/html": [
       "<div>\n",
       "<style scoped>\n",
       "    .dataframe tbody tr th:only-of-type {\n",
       "        vertical-align: middle;\n",
       "    }\n",
       "\n",
       "    .dataframe tbody tr th {\n",
       "        vertical-align: top;\n",
       "    }\n",
       "\n",
       "    .dataframe thead th {\n",
       "        text-align: right;\n",
       "    }\n",
       "</style>\n",
       "<table border=\"1\" class=\"dataframe\">\n",
       "  <thead>\n",
       "    <tr style=\"text-align: right;\">\n",
       "      <th></th>\n",
       "      <th>ENGINESIZE</th>\n",
       "      <th>CYLINDERS</th>\n",
       "      <th>FUELCONSUMPTION_HWY</th>\n",
       "      <th>FUELCONSUMPTION_CITY</th>\n",
       "      <th>CO2EMISSIONS</th>\n",
       "    </tr>\n",
       "  </thead>\n",
       "  <tbody>\n",
       "    <tr>\n",
       "      <th>0</th>\n",
       "      <td>2.0</td>\n",
       "      <td>4</td>\n",
       "      <td>6.7</td>\n",
       "      <td>9.9</td>\n",
       "      <td>196</td>\n",
       "    </tr>\n",
       "    <tr>\n",
       "      <th>1</th>\n",
       "      <td>2.4</td>\n",
       "      <td>4</td>\n",
       "      <td>7.7</td>\n",
       "      <td>11.2</td>\n",
       "      <td>221</td>\n",
       "    </tr>\n",
       "    <tr>\n",
       "      <th>2</th>\n",
       "      <td>1.5</td>\n",
       "      <td>4</td>\n",
       "      <td>5.8</td>\n",
       "      <td>6.0</td>\n",
       "      <td>136</td>\n",
       "    </tr>\n",
       "    <tr>\n",
       "      <th>3</th>\n",
       "      <td>3.5</td>\n",
       "      <td>6</td>\n",
       "      <td>9.1</td>\n",
       "      <td>12.7</td>\n",
       "      <td>255</td>\n",
       "    </tr>\n",
       "    <tr>\n",
       "      <th>4</th>\n",
       "      <td>3.5</td>\n",
       "      <td>6</td>\n",
       "      <td>8.7</td>\n",
       "      <td>12.1</td>\n",
       "      <td>244</td>\n",
       "    </tr>\n",
       "  </tbody>\n",
       "</table>\n",
       "</div>"
      ],
      "text/plain": [
       "   ENGINESIZE  CYLINDERS  FUELCONSUMPTION_HWY  FUELCONSUMPTION_CITY  \\\n",
       "0         2.0          4                  6.7                   9.9   \n",
       "1         2.4          4                  7.7                  11.2   \n",
       "2         1.5          4                  5.8                   6.0   \n",
       "3         3.5          6                  9.1                  12.7   \n",
       "4         3.5          6                  8.7                  12.1   \n",
       "\n",
       "   CO2EMISSIONS  \n",
       "0           196  \n",
       "1           221  \n",
       "2           136  \n",
       "3           255  \n",
       "4           244  "
      ]
     },
     "execution_count": 239,
     "metadata": {},
     "output_type": "execute_result"
    }
   ],
   "source": [
    "new_features.head()"
   ]
  },
  {
   "cell_type": "code",
   "execution_count": 240,
   "id": "eebe329a-a7f2-4a2c-ad4e-cd39861a4c1f",
   "metadata": {},
   "outputs": [],
   "source": [
    "# split the data\n",
    "msk1 = np.random.rand(len(df)) < 0.8\n",
    "train = new_features[msk1]\n",
    "test = new_features[~msk1]"
   ]
  },
  {
   "cell_type": "code",
   "execution_count": 245,
   "id": "1cfc1039-0de0-450d-a605-0eebc955fe77",
   "metadata": {},
   "outputs": [
    {
     "name": "stderr",
     "output_type": "stream",
     "text": [
      "C:\\Users\\ahiab\\OneDrive\\Desktop\\HomeLLc_project\\env\\lib\\site-packages\\numpy\\core\\fromnumeric.py:3472: FutureWarning: In a future version, DataFrame.mean(axis=None) will return a scalar mean over the entire DataFrame. To retain the old behavior, use 'frame.mean(axis=0)' or just 'frame.mean()'\n",
      "  return mean(axis=axis, dtype=dtype, out=out, **kwargs)\n"
     ]
    }
   ],
   "source": [
    "from sklearn.linear_model import LinearRegression\n",
    "rgr1 = LinearRegression()\n",
    "train_x = train[[\"ENGINESIZE\", \"CYLINDERS\", \"FUELCONSUMPTION_HWY\", \"FUELCONSUMPTION_CITY\"]]\n",
    "train_y = train[[\"CO2EMISSIONS\"]]\n",
    "rgr1.fit(train_x, train_y)\n",
    "\n",
    "# make predicion and evaluate the model\n",
    "y_hat1 = rgr1.predict(test[[\"ENGINESIZE\", \"CYLINDERS\", \"FUELCONSUMPTION_HWY\", \"FUELCONSUMPTION_CITY\"]])\n",
    "test_x = test[[\"ENGINESIZE\", \"CYLINDERS\", \"FUELCONSUMPTION_HWY\", \"FUELCONSUMPTION_CITY\"]]\n",
    "test_y = test[[\"CO2EMISSIONS\"]]\n",
    "\n",
    "\n",
    "MSE1 = np.mean((y_hat1 - test_y)**2)\n",
    "\n",
    "variance = rgr1.score(test_x, test_y)"
   ]
  },
  {
   "cell_type": "code",
   "execution_count": 246,
   "id": "857ca15b-2be5-47a1-9133-60f812952fee",
   "metadata": {},
   "outputs": [
    {
     "data": {
      "text/plain": [
       "CO2EMISSIONS    542.259263\n",
       "dtype: float64"
      ]
     },
     "execution_count": 246,
     "metadata": {},
     "output_type": "execute_result"
    }
   ],
   "source": [
    "MSE1"
   ]
  },
  {
   "cell_type": "code",
   "execution_count": 243,
   "id": "5a960868-d0f8-4260-bd98-f110744e5652",
   "metadata": {},
   "outputs": [
    {
     "data": {
      "text/plain": [
       "0.8424483356948419"
      ]
     },
     "execution_count": 243,
     "metadata": {},
     "output_type": "execute_result"
    }
   ],
   "source": [
    "variance"
   ]
  },
  {
   "cell_type": "code",
   "execution_count": 247,
   "id": "587d8a6e-ee92-4c4f-bf07-60c0e7be709f",
   "metadata": {},
   "outputs": [
    {
     "name": "stdout",
     "output_type": "stream",
     "text": [
      "Coefficients:  [[11.03270793  6.80551644  6.99186157  2.13921147]]\n",
      "Residual sum of squares: 542.26\n",
      "Variance score: 0.84\n"
     ]
    },
    {
     "name": "stderr",
     "output_type": "stream",
     "text": [
      "C:\\Users\\ahiab\\OneDrive\\Desktop\\HomeLLc_project\\env\\lib\\site-packages\\sklearn\\base.py:443: UserWarning: X has feature names, but LinearRegression was fitted without feature names\n",
      "  warnings.warn(\n"
     ]
    }
   ],
   "source": [
    "regr = LinearRegression()\n",
    "x = np.asanyarray(train[['ENGINESIZE','CYLINDERS','FUELCONSUMPTION_CITY','FUELCONSUMPTION_HWY']])\n",
    "y = np.asanyarray(train[['CO2EMISSIONS']])\n",
    "regr.fit (x, y)\n",
    "print ('Coefficients: ', regr.coef_)\n",
    "y_= regr.predict(test[['ENGINESIZE','CYLINDERS','FUELCONSUMPTION_CITY','FUELCONSUMPTION_HWY']])\n",
    "x = np.asanyarray(test[['ENGINESIZE','CYLINDERS','FUELCONSUMPTION_CITY','FUELCONSUMPTION_HWY']])\n",
    "y = np.asanyarray(test[['CO2EMISSIONS']])\n",
    "print(\"Residual sum of squares: %.2f\"% np.mean((y_ - y) ** 2))\n",
    "print('Variance score: %.2f' % regr.score(x, y))"
   ]
  },
  {
   "cell_type": "code",
   "execution_count": null,
   "id": "71812c33-87b4-4b1f-a01f-78b22b50af97",
   "metadata": {},
   "outputs": [],
   "source": []
  }
 ],
 "metadata": {
  "kernelspec": {
   "display_name": "Python 3 (ipykernel)",
   "language": "python",
   "name": "python3"
  },
  "language_info": {
   "codemirror_mode": {
    "name": "ipython",
    "version": 3
   },
   "file_extension": ".py",
   "mimetype": "text/x-python",
   "name": "python",
   "nbconvert_exporter": "python",
   "pygments_lexer": "ipython3",
   "version": "3.10.4"
  }
 },
 "nbformat": 4,
 "nbformat_minor": 5
}
