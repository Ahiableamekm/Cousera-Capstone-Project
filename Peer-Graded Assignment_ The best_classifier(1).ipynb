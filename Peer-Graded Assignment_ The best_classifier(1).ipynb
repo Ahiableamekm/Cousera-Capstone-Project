{
 "cells": [
  {
   "cell_type": "markdown",
   "id": "56dc89a7-e7f0-4750-aafe-a3592805655c",
   "metadata": {},
   "source": [
    "# Peer - Graded Assignment: The best classifier"
   ]
  },
  {
   "cell_type": "markdown",
   "id": "ec650638-20cd-4961-a4f1-bba2277b297c",
   "metadata": {},
   "source": [
    "## Objectives:\n",
    "\n",
    "* Using loan applications dataset,\n",
    "    \n",
    "    * clean the data, \n",
    "    \n",
    "    * apply different classification algorithm on the data.\n",
    " \n",
    "* Alogorithm used:\n",
    "\n",
    "    * k-Nearest Neighbour\n",
    "\n",
    "    * Decision Tree\n",
    "\n",
    "    * Support Vector Machine\n",
    "\n",
    "    * Logistic Regression\n",
    "\n",
    "* The alogorithm will be evaluated using the following metrics:\n",
    "\n",
    "    * Jaccard index\n",
    "\n",
    "    * F1-score\n",
    "\n",
    "    * LogLoass"
   ]
  },
  {
   "cell_type": "markdown",
   "id": "a709e3ba-37df-4dbf-9ea2-4581dd9b5a81",
   "metadata": {},
   "source": [
    "### About the dataset\n",
    "**Features of the data**\n",
    "1. Loan_ID\n",
    "2. Gender\n",
    "3. Married\n",
    "4. Dependents\n",
    "5. Education\n",
    "6. Self_Employed\n",
    "7. ApplicantIncome\n",
    "8. CoapplicantIncome\n",
    "9. LoanAmount\n",
    "10. Loan_Amount_Term\n",
    "11. Credit_History\n",
    "12. Property_Area\n",
    "13. Loan_Status\n"
   ]
  },
  {
   "cell_type": "code",
   "execution_count": 1,
   "id": "7a7075af-e8da-4d6d-b127-1c1d86bc5382",
   "metadata": {},
   "outputs": [],
   "source": [
    "# Importing Packages\n",
    "import pandas as pd\n",
    "import numpy as np\n",
    "import matplotlib.pyplot as plt\n",
    "%matplotlib inline"
   ]
  },
  {
   "cell_type": "code",
   "execution_count": 2,
   "id": "aa540107-5bb7-4a08-ae75-d38e2f9e4c74",
   "metadata": {},
   "outputs": [
    {
     "data": {
      "text/html": [
       "<div>\n",
       "<style scoped>\n",
       "    .dataframe tbody tr th:only-of-type {\n",
       "        vertical-align: middle;\n",
       "    }\n",
       "\n",
       "    .dataframe tbody tr th {\n",
       "        vertical-align: top;\n",
       "    }\n",
       "\n",
       "    .dataframe thead th {\n",
       "        text-align: right;\n",
       "    }\n",
       "</style>\n",
       "<table border=\"1\" class=\"dataframe\">\n",
       "  <thead>\n",
       "    <tr style=\"text-align: right;\">\n",
       "      <th></th>\n",
       "      <th>Gender</th>\n",
       "      <th>Married</th>\n",
       "      <th>Dependents</th>\n",
       "      <th>Education</th>\n",
       "      <th>Self_Employed</th>\n",
       "      <th>ApplicantIncome</th>\n",
       "      <th>CoapplicantIncome</th>\n",
       "      <th>LoanAmount</th>\n",
       "      <th>Loan_Amount_Term</th>\n",
       "      <th>Credit_History</th>\n",
       "      <th>Property_Area</th>\n",
       "      <th>Loan_Status</th>\n",
       "    </tr>\n",
       "    <tr>\n",
       "      <th>Loan_ID</th>\n",
       "      <th></th>\n",
       "      <th></th>\n",
       "      <th></th>\n",
       "      <th></th>\n",
       "      <th></th>\n",
       "      <th></th>\n",
       "      <th></th>\n",
       "      <th></th>\n",
       "      <th></th>\n",
       "      <th></th>\n",
       "      <th></th>\n",
       "      <th></th>\n",
       "    </tr>\n",
       "  </thead>\n",
       "  <tbody>\n",
       "    <tr>\n",
       "      <th>LP001002</th>\n",
       "      <td>Male</td>\n",
       "      <td>No</td>\n",
       "      <td>0</td>\n",
       "      <td>Graduate</td>\n",
       "      <td>No</td>\n",
       "      <td>5849</td>\n",
       "      <td>0.0</td>\n",
       "      <td>NaN</td>\n",
       "      <td>360.0</td>\n",
       "      <td>1.0</td>\n",
       "      <td>Urban</td>\n",
       "      <td>Y</td>\n",
       "    </tr>\n",
       "    <tr>\n",
       "      <th>LP001003</th>\n",
       "      <td>Male</td>\n",
       "      <td>Yes</td>\n",
       "      <td>1</td>\n",
       "      <td>Graduate</td>\n",
       "      <td>No</td>\n",
       "      <td>4583</td>\n",
       "      <td>1508.0</td>\n",
       "      <td>128.0</td>\n",
       "      <td>360.0</td>\n",
       "      <td>1.0</td>\n",
       "      <td>Rural</td>\n",
       "      <td>N</td>\n",
       "    </tr>\n",
       "    <tr>\n",
       "      <th>LP001005</th>\n",
       "      <td>Male</td>\n",
       "      <td>Yes</td>\n",
       "      <td>0</td>\n",
       "      <td>Graduate</td>\n",
       "      <td>Yes</td>\n",
       "      <td>3000</td>\n",
       "      <td>0.0</td>\n",
       "      <td>66.0</td>\n",
       "      <td>360.0</td>\n",
       "      <td>1.0</td>\n",
       "      <td>Urban</td>\n",
       "      <td>Y</td>\n",
       "    </tr>\n",
       "    <tr>\n",
       "      <th>LP001006</th>\n",
       "      <td>Male</td>\n",
       "      <td>Yes</td>\n",
       "      <td>0</td>\n",
       "      <td>Not Graduate</td>\n",
       "      <td>No</td>\n",
       "      <td>2583</td>\n",
       "      <td>2358.0</td>\n",
       "      <td>120.0</td>\n",
       "      <td>360.0</td>\n",
       "      <td>1.0</td>\n",
       "      <td>Urban</td>\n",
       "      <td>Y</td>\n",
       "    </tr>\n",
       "    <tr>\n",
       "      <th>LP001008</th>\n",
       "      <td>Male</td>\n",
       "      <td>No</td>\n",
       "      <td>0</td>\n",
       "      <td>Graduate</td>\n",
       "      <td>No</td>\n",
       "      <td>6000</td>\n",
       "      <td>0.0</td>\n",
       "      <td>141.0</td>\n",
       "      <td>360.0</td>\n",
       "      <td>1.0</td>\n",
       "      <td>Urban</td>\n",
       "      <td>Y</td>\n",
       "    </tr>\n",
       "  </tbody>\n",
       "</table>\n",
       "</div>"
      ],
      "text/plain": [
       "         Gender Married Dependents     Education Self_Employed  \\\n",
       "Loan_ID                                                          \n",
       "LP001002   Male      No          0      Graduate            No   \n",
       "LP001003   Male     Yes          1      Graduate            No   \n",
       "LP001005   Male     Yes          0      Graduate           Yes   \n",
       "LP001006   Male     Yes          0  Not Graduate            No   \n",
       "LP001008   Male      No          0      Graduate            No   \n",
       "\n",
       "          ApplicantIncome  CoapplicantIncome  LoanAmount  Loan_Amount_Term  \\\n",
       "Loan_ID                                                                      \n",
       "LP001002             5849                0.0         NaN             360.0   \n",
       "LP001003             4583             1508.0       128.0             360.0   \n",
       "LP001005             3000                0.0        66.0             360.0   \n",
       "LP001006             2583             2358.0       120.0             360.0   \n",
       "LP001008             6000                0.0       141.0             360.0   \n",
       "\n",
       "          Credit_History Property_Area Loan_Status  \n",
       "Loan_ID                                             \n",
       "LP001002             1.0         Urban           Y  \n",
       "LP001003             1.0         Rural           N  \n",
       "LP001005             1.0         Urban           Y  \n",
       "LP001006             1.0         Urban           Y  \n",
       "LP001008             1.0         Urban           Y  "
      ]
     },
     "execution_count": 2,
     "metadata": {},
     "output_type": "execute_result"
    }
   ],
   "source": [
    "# loading data\n",
    "loan_df = pd.read_csv(\"loan_application.csv\", index_col =\"Loan_ID\")\n",
    "\n",
    "# View the first 5 rows of the dataset\n",
    "loan_df.head()"
   ]
  },
  {
   "cell_type": "code",
   "execution_count": 3,
   "id": "b1b1af59-3083-4c93-a334-11c0c6e0f403",
   "metadata": {},
   "outputs": [
    {
     "name": "stdout",
     "output_type": "stream",
     "text": [
      "<class 'pandas.core.frame.DataFrame'>\n",
      "Index: 614 entries, LP001002 to LP002990\n",
      "Data columns (total 12 columns):\n",
      " #   Column             Non-Null Count  Dtype  \n",
      "---  ------             --------------  -----  \n",
      " 0   Gender             601 non-null    object \n",
      " 1   Married            611 non-null    object \n",
      " 2   Dependents         599 non-null    object \n",
      " 3   Education          614 non-null    object \n",
      " 4   Self_Employed      582 non-null    object \n",
      " 5   ApplicantIncome    614 non-null    int64  \n",
      " 6   CoapplicantIncome  614 non-null    float64\n",
      " 7   LoanAmount         592 non-null    float64\n",
      " 8   Loan_Amount_Term   600 non-null    float64\n",
      " 9   Credit_History     564 non-null    float64\n",
      " 10  Property_Area      614 non-null    object \n",
      " 11  Loan_Status        614 non-null    object \n",
      "dtypes: float64(4), int64(1), object(7)\n",
      "memory usage: 62.4+ KB\n"
     ]
    }
   ],
   "source": [
    "# summary of the dataset\n",
    "loan_df.info()\n"
   ]
  },
  {
   "cell_type": "markdown",
   "id": "42ea96e3-8101-4cd0-a3b6-0e9459e6aa92",
   "metadata": {},
   "source": [
    "From the summary of the data, some values are missing"
   ]
  },
  {
   "cell_type": "code",
   "execution_count": 5,
   "id": "6b6ced58-8efc-4143-a86d-ce6d082fe363",
   "metadata": {},
   "outputs": [
    {
     "data": {
      "text/plain": [
       "Gender               13\n",
       "Married               3\n",
       "Dependents           15\n",
       "Education             0\n",
       "Self_Employed        32\n",
       "ApplicantIncome       0\n",
       "CoapplicantIncome     0\n",
       "LoanAmount           22\n",
       "Loan_Amount_Term     14\n",
       "Credit_History       50\n",
       "Property_Area         0\n",
       "Loan_Status           0\n",
       "dtype: int64"
      ]
     },
     "execution_count": 5,
     "metadata": {},
     "output_type": "execute_result"
    }
   ],
   "source": [
    "#checking the missing value count of each column\n",
    "loan_df.isna().sum()"
   ]
  },
  {
   "cell_type": "markdown",
   "id": "6099b2ac-d040-4036-9319-be4624e2fee9",
   "metadata": {},
   "source": [
    "Drop the missing values from the data set"
   ]
  },
  {
   "cell_type": "code",
   "execution_count": 6,
   "id": "4f83e35e-5fa6-43ca-90d8-2d4fbeaa69cc",
   "metadata": {},
   "outputs": [],
   "source": [
    "#drop the missing values and setting inplace to True to mute the dataframe\n",
    "loan_df.dropna(inplace = True)"
   ]
  },
  {
   "cell_type": "code",
   "execution_count": 7,
   "id": "1cf23039-3735-432f-be3b-6cd1433bb613",
   "metadata": {},
   "outputs": [
    {
     "data": {
      "text/plain": [
       "Gender               0\n",
       "Married              0\n",
       "Dependents           0\n",
       "Education            0\n",
       "Self_Employed        0\n",
       "ApplicantIncome      0\n",
       "CoapplicantIncome    0\n",
       "LoanAmount           0\n",
       "Loan_Amount_Term     0\n",
       "Credit_History       0\n",
       "Property_Area        0\n",
       "Loan_Status          0\n",
       "dtype: int64"
      ]
     },
     "execution_count": 7,
     "metadata": {},
     "output_type": "execute_result"
    }
   ],
   "source": [
    "# re-checking the dataframe for missing values\n",
    "loan_df.isna().sum()"
   ]
  },
  {
   "cell_type": "markdown",
   "id": "cb2a2808-2782-44eb-8885-40098a7e371f",
   "metadata": {},
   "source": [
    "There are no missing values"
   ]
  },
  {
   "cell_type": "code",
   "execution_count": 8,
   "id": "6d69388a-fddb-4bc2-8f09-d5e94bdfc737",
   "metadata": {},
   "outputs": [
    {
     "data": {
      "text/html": [
       "<div>\n",
       "<style scoped>\n",
       "    .dataframe tbody tr th:only-of-type {\n",
       "        vertical-align: middle;\n",
       "    }\n",
       "\n",
       "    .dataframe tbody tr th {\n",
       "        vertical-align: top;\n",
       "    }\n",
       "\n",
       "    .dataframe thead th {\n",
       "        text-align: right;\n",
       "    }\n",
       "</style>\n",
       "<table border=\"1\" class=\"dataframe\">\n",
       "  <thead>\n",
       "    <tr style=\"text-align: right;\">\n",
       "      <th></th>\n",
       "      <th>Gender</th>\n",
       "      <th>Married</th>\n",
       "      <th>Dependents</th>\n",
       "      <th>Education</th>\n",
       "      <th>Self_Employed</th>\n",
       "      <th>ApplicantIncome</th>\n",
       "      <th>CoapplicantIncome</th>\n",
       "      <th>LoanAmount</th>\n",
       "      <th>Loan_Amount_Term</th>\n",
       "      <th>Credit_History</th>\n",
       "      <th>Property_Area</th>\n",
       "      <th>Loan_Status</th>\n",
       "    </tr>\n",
       "    <tr>\n",
       "      <th>Loan_ID</th>\n",
       "      <th></th>\n",
       "      <th></th>\n",
       "      <th></th>\n",
       "      <th></th>\n",
       "      <th></th>\n",
       "      <th></th>\n",
       "      <th></th>\n",
       "      <th></th>\n",
       "      <th></th>\n",
       "      <th></th>\n",
       "      <th></th>\n",
       "      <th></th>\n",
       "    </tr>\n",
       "  </thead>\n",
       "  <tbody>\n",
       "    <tr>\n",
       "      <th>LP001003</th>\n",
       "      <td>Male</td>\n",
       "      <td>Yes</td>\n",
       "      <td>1</td>\n",
       "      <td>Graduate</td>\n",
       "      <td>No</td>\n",
       "      <td>4583</td>\n",
       "      <td>1508.0</td>\n",
       "      <td>128.0</td>\n",
       "      <td>360.0</td>\n",
       "      <td>1.0</td>\n",
       "      <td>Rural</td>\n",
       "      <td>N</td>\n",
       "    </tr>\n",
       "    <tr>\n",
       "      <th>LP001005</th>\n",
       "      <td>Male</td>\n",
       "      <td>Yes</td>\n",
       "      <td>0</td>\n",
       "      <td>Graduate</td>\n",
       "      <td>Yes</td>\n",
       "      <td>3000</td>\n",
       "      <td>0.0</td>\n",
       "      <td>66.0</td>\n",
       "      <td>360.0</td>\n",
       "      <td>1.0</td>\n",
       "      <td>Urban</td>\n",
       "      <td>Y</td>\n",
       "    </tr>\n",
       "    <tr>\n",
       "      <th>LP001006</th>\n",
       "      <td>Male</td>\n",
       "      <td>Yes</td>\n",
       "      <td>0</td>\n",
       "      <td>Not Graduate</td>\n",
       "      <td>No</td>\n",
       "      <td>2583</td>\n",
       "      <td>2358.0</td>\n",
       "      <td>120.0</td>\n",
       "      <td>360.0</td>\n",
       "      <td>1.0</td>\n",
       "      <td>Urban</td>\n",
       "      <td>Y</td>\n",
       "    </tr>\n",
       "    <tr>\n",
       "      <th>LP001008</th>\n",
       "      <td>Male</td>\n",
       "      <td>No</td>\n",
       "      <td>0</td>\n",
       "      <td>Graduate</td>\n",
       "      <td>No</td>\n",
       "      <td>6000</td>\n",
       "      <td>0.0</td>\n",
       "      <td>141.0</td>\n",
       "      <td>360.0</td>\n",
       "      <td>1.0</td>\n",
       "      <td>Urban</td>\n",
       "      <td>Y</td>\n",
       "    </tr>\n",
       "    <tr>\n",
       "      <th>LP001011</th>\n",
       "      <td>Male</td>\n",
       "      <td>Yes</td>\n",
       "      <td>2</td>\n",
       "      <td>Graduate</td>\n",
       "      <td>Yes</td>\n",
       "      <td>5417</td>\n",
       "      <td>4196.0</td>\n",
       "      <td>267.0</td>\n",
       "      <td>360.0</td>\n",
       "      <td>1.0</td>\n",
       "      <td>Urban</td>\n",
       "      <td>Y</td>\n",
       "    </tr>\n",
       "  </tbody>\n",
       "</table>\n",
       "</div>"
      ],
      "text/plain": [
       "         Gender Married Dependents     Education Self_Employed  \\\n",
       "Loan_ID                                                          \n",
       "LP001003   Male     Yes          1      Graduate            No   \n",
       "LP001005   Male     Yes          0      Graduate           Yes   \n",
       "LP001006   Male     Yes          0  Not Graduate            No   \n",
       "LP001008   Male      No          0      Graduate            No   \n",
       "LP001011   Male     Yes          2      Graduate           Yes   \n",
       "\n",
       "          ApplicantIncome  CoapplicantIncome  LoanAmount  Loan_Amount_Term  \\\n",
       "Loan_ID                                                                      \n",
       "LP001003             4583             1508.0       128.0             360.0   \n",
       "LP001005             3000                0.0        66.0             360.0   \n",
       "LP001006             2583             2358.0       120.0             360.0   \n",
       "LP001008             6000                0.0       141.0             360.0   \n",
       "LP001011             5417             4196.0       267.0             360.0   \n",
       "\n",
       "          Credit_History Property_Area Loan_Status  \n",
       "Loan_ID                                             \n",
       "LP001003             1.0         Rural           N  \n",
       "LP001005             1.0         Urban           Y  \n",
       "LP001006             1.0         Urban           Y  \n",
       "LP001008             1.0         Urban           Y  \n",
       "LP001011             1.0         Urban           Y  "
      ]
     },
     "execution_count": 8,
     "metadata": {},
     "output_type": "execute_result"
    }
   ],
   "source": [
    "loan_df.head()"
   ]
  },
  {
   "cell_type": "code",
   "execution_count": 9,
   "id": "9da9f8d4-5b13-4be8-a8bc-0203a344d2ed",
   "metadata": {},
   "outputs": [
    {
     "data": {
      "text/plain": [
       "Gender                object\n",
       "Married               object\n",
       "Dependents            object\n",
       "Education             object\n",
       "Self_Employed         object\n",
       "ApplicantIncome        int64\n",
       "CoapplicantIncome    float64\n",
       "LoanAmount           float64\n",
       "Loan_Amount_Term     float64\n",
       "Credit_History       float64\n",
       "Property_Area         object\n",
       "Loan_Status           object\n",
       "dtype: object"
      ]
     },
     "execution_count": 9,
     "metadata": {},
     "output_type": "execute_result"
    }
   ],
   "source": [
    "# Checking the data types of each column\n",
    "loan_df.dtypes"
   ]
  },
  {
   "cell_type": "markdown",
   "id": "fb3c3e85-dfb0-4ee3-b929-c45aded254b0",
   "metadata": {},
   "source": [
    "The data must be converted to the same data type (float)\n",
    "Although the data in Dependents column are numbers but it's data type is object"
   ]
  },
  {
   "cell_type": "code",
   "execution_count": 10,
   "id": "b1d8471b-5fdf-434d-bb74-fb00f6e6f08d",
   "metadata": {},
   "outputs": [
    {
     "data": {
      "text/plain": [
       "Gender  Married  Dependents  Education     Self_Employed  ApplicantIncome  CoapplicantIncome  LoanAmount  Loan_Amount_Term  Credit_History  Property_Area  Loan_Status\n",
       "Female  No       0           Graduate      No             645              3683.0             113.0       480.0             1.0             Rural          Y              1\n",
       "                                                          1500             1800.0             103.0       360.0             0.0             Semiurban      N              1\n",
       "Male    Yes      1           Graduate      No             4283             3000.0             172.0       84.0              1.0             Rural          N              1\n",
       "                                                          3988             0.0                50.0        240.0             1.0             Urban          Y              1\n",
       "                                                          3875             0.0                67.0        360.0             1.0             Urban          N              1\n",
       "                                                                                                                                                                         ..\n",
       "        No       0           Graduate      Yes            10416            0.0                187.0       360.0             0.0             Urban          N              1\n",
       "                                                          7167             0.0                128.0       360.0             1.0             Urban          Y              1\n",
       "                                                          7085             0.0                84.0        360.0             1.0             Semiurban      Y              1\n",
       "                                                          6950             0.0                175.0       180.0             1.0             Semiurban      Y              1\n",
       "        Yes      3+          Not Graduate  Yes            7100             0.0                125.0       60.0              1.0             Urban          Y              1\n",
       "Length: 480, dtype: int64"
      ]
     },
     "execution_count": 10,
     "metadata": {},
     "output_type": "execute_result"
    }
   ],
   "source": [
    "# viewing the value counts of all data available in the data\n",
    "loan_df.value_counts()"
   ]
  },
  {
   "cell_type": "markdown",
   "id": "33ddb468-f95a-44ae-a183-0996ce050dcb",
   "metadata": {},
   "source": [
    "Well now it can be see that there is a value in the Dependents column that is not a numerical value"
   ]
  },
  {
   "cell_type": "code",
   "execution_count": 11,
   "id": "2aa31c62-afd5-4ce8-b8ab-8969a2f8f45f",
   "metadata": {},
   "outputs": [],
   "source": [
    "# replacing the non-numerical value of the dependents column with 3\n",
    "loan_df[\"Dependents\"] = loan_df[\"Dependents\"].replace(\"3+\", 3)"
   ]
  },
  {
   "cell_type": "code",
   "execution_count": 12,
   "id": "726dad50-61cc-482c-aa80-5cbf66fba569",
   "metadata": {},
   "outputs": [
    {
     "data": {
      "text/plain": [
       "Gender  Married  Dependents  Education     Self_Employed  ApplicantIncome  CoapplicantIncome  LoanAmount  Loan_Amount_Term  Credit_History  Property_Area  Loan_Status\n",
       "Female  No       3           Graduate      No             3083             0.0                255.0       360.0             1.0             Rural          Y              1\n",
       "                 0           Graduate      No             645              3683.0             113.0       480.0             1.0             Rural          Y              1\n",
       "Male    Yes      0           Not Graduate  No             2253             2033.0             110.0       360.0             1.0             Rural          Y              1\n",
       "                                                          2167             2400.0             115.0       360.0             1.0             Urban          Y              1\n",
       "                                                          1863             1041.0             98.0        360.0             1.0             Semiurban      Y              1\n",
       "                                                                                                                                                                         ..\n",
       "        No       0           Graduate      Yes            6950             0.0                175.0       180.0             1.0             Semiurban      Y              1\n",
       "                                                          6822             0.0                141.0       360.0             1.0             Rural          Y              1\n",
       "                                                          6400             0.0                200.0       360.0             1.0             Rural          Y              1\n",
       "                                                          6050             4333.0             120.0       180.0             1.0             Urban          N              1\n",
       "        Yes      2           Not Graduate  Yes            6383             1000.0             187.0       360.0             1.0             Rural          N              1\n",
       "Length: 480, dtype: int64"
      ]
     },
     "execution_count": 12,
     "metadata": {},
     "output_type": "execute_result"
    }
   ],
   "source": [
    "# Re-checking the data counts\n",
    "loan_df.value_counts()"
   ]
  },
  {
   "cell_type": "code",
   "execution_count": 13,
   "id": "1dc069fe-4108-465e-b5d0-7b59544e7351",
   "metadata": {},
   "outputs": [],
   "source": [
    "# splitting the data into feature set and the label set\n",
    "X= loan_df.drop(\"Loan_Status\", axis = 1).values\n",
    "y= loan_df[\"Loan_Status\"].values"
   ]
  },
  {
   "cell_type": "code",
   "execution_count": 14,
   "id": "a458bc47-0f3d-47c3-a8ed-b5e81b7931cb",
   "metadata": {},
   "outputs": [],
   "source": [
    "# transforming the categorical data of the feature set into numerical\n",
    "from sklearn.preprocessing import LabelEncoder\n",
    "\n",
    "cat_gen = LabelEncoder()\n",
    "cat_gen.fit([\"Male\", \"Female\"])\n",
    "X[:, 0] = cat_gen.transform(X[:, 0])\n",
    "\n",
    "\n",
    "cat_mar = LabelEncoder()\n",
    "cat_mar.fit([\"No\", \"Yes\"])\n",
    "X[:, 1] = cat_mar.transform(X[:, 1])\n",
    "X[:, 4] = cat_mar.transform(X[:, 4])\n",
    "\n",
    "\n",
    "cat_edu = LabelEncoder()\n",
    "cat_edu.fit([\"Graduate\", \"Not Graduate\"])\n",
    "X[:, 3] = cat_edu.transform(X[:, 3])\n",
    "\n",
    "\n",
    "cat_prop = LabelEncoder()\n",
    "cat_prop.fit([\"Semiurban\", \"Urban\", \"Rural\"])\n",
    "X[:, 10] = cat_prop.transform(X[:, 10])\n"
   ]
  },
  {
   "cell_type": "code",
   "execution_count": 16,
   "id": "341ce03c-48ff-492f-8126-d11b92cb1602",
   "metadata": {},
   "outputs": [
    {
     "data": {
      "text/plain": [
       "array([[1, 1, '1', 0, 0, 4583, 1508.0, 128.0, 360.0, 1.0, 0],\n",
       "       [1, 1, '0', 0, 1, 3000, 0.0, 66.0, 360.0, 1.0, 2],\n",
       "       [1, 1, '0', 1, 0, 2583, 2358.0, 120.0, 360.0, 1.0, 2],\n",
       "       [1, 0, '0', 0, 0, 6000, 0.0, 141.0, 360.0, 1.0, 2],\n",
       "       [1, 1, '2', 0, 1, 5417, 4196.0, 267.0, 360.0, 1.0, 2]],\n",
       "      dtype=object)"
      ]
     },
     "execution_count": 16,
     "metadata": {},
     "output_type": "execute_result"
    }
   ],
   "source": [
    "# view the first five rows of the feature set\n",
    "X[:5]"
   ]
  },
  {
   "cell_type": "code",
   "execution_count": 17,
   "id": "31408b86-dcdd-45c2-8891-b2d0f84adb8b",
   "metadata": {},
   "outputs": [],
   "source": [
    "# transforminng label to numerical Y for 1 and N for  0\n",
    "y= np.asarray([1 if value == \"Y\" else 0 for value in y])"
   ]
  },
  {
   "cell_type": "code",
   "execution_count": 18,
   "id": "36685fb7-2c1f-4ad6-80c9-0a69b53599ec",
   "metadata": {},
   "outputs": [],
   "source": [
    "# Normalize the data feature set convert all to float\n",
    "from sklearn.preprocessing import StandardScaler\n",
    "sds = StandardScaler()\n",
    "X = sds.fit_transform(X, X.astype(float))"
   ]
  },
  {
   "cell_type": "code",
   "execution_count": 19,
   "id": "c8b59f5d-06b6-42f6-b1bd-0383c1ef90b5",
   "metadata": {},
   "outputs": [
    {
     "data": {
      "text/plain": [
       "array([[ 0.46719815,  0.73716237,  0.21859918, -0.50325312, -0.3992747 ,\n",
       "        -0.13796959, -0.02795204, -0.20808917,  0.27554157,  0.41319694,\n",
       "        -1.31886834],\n",
       "       [ 0.46719815,  0.73716237, -0.76203265, -0.50325312,  2.50454133,\n",
       "        -0.4175358 , -0.604633  , -0.97900085,  0.27554157,  0.41319694,\n",
       "         1.25977445],\n",
       "       [ 0.46719815,  0.73716237, -0.76203265,  1.98707162, -0.3992747 ,\n",
       "        -0.49118022,  0.29710022, -0.30756164,  0.27554157,  0.41319694,\n",
       "         1.25977445],\n",
       "       [ 0.46719815, -1.35655324, -0.76203265, -0.50325312, -0.3992747 ,\n",
       "         0.11228014, -0.604633  , -0.04644639,  0.27554157,  0.41319694,\n",
       "         1.25977445],\n",
       "       [ 0.46719815,  0.73716237,  1.19923101, -0.50325312,  2.50454133,\n",
       "         0.00931924,  0.99997795,  1.52024509,  0.27554157,  0.41319694,\n",
       "         1.25977445]])"
      ]
     },
     "execution_count": 19,
     "metadata": {},
     "output_type": "execute_result"
    }
   ],
   "source": [
    "# first five after normalizing\n",
    "X[0:5]"
   ]
  },
  {
   "cell_type": "code",
   "execution_count": 20,
   "id": "8149c5bf-87a0-4d17-bd68-e4cea027f188",
   "metadata": {},
   "outputs": [],
   "source": [
    "#splitting the data in to trainset 70% and testset 20%\n",
    "from sklearn.model_selection import train_test_split\n",
    "X_train, X_test, Y_train, Y_test= train_test_split(X, y, test_size=0.2, random_state=3)"
   ]
  },
  {
   "cell_type": "code",
   "execution_count": 21,
   "id": "6862caba-6b91-4126-be73-412a25e72283",
   "metadata": {},
   "outputs": [
    {
     "data": {
      "text/html": [
       "<style>#sk-container-id-1 {color: black;background-color: white;}#sk-container-id-1 pre{padding: 0;}#sk-container-id-1 div.sk-toggleable {background-color: white;}#sk-container-id-1 label.sk-toggleable__label {cursor: pointer;display: block;width: 100%;margin-bottom: 0;padding: 0.3em;box-sizing: border-box;text-align: center;}#sk-container-id-1 label.sk-toggleable__label-arrow:before {content: \"▸\";float: left;margin-right: 0.25em;color: #696969;}#sk-container-id-1 label.sk-toggleable__label-arrow:hover:before {color: black;}#sk-container-id-1 div.sk-estimator:hover label.sk-toggleable__label-arrow:before {color: black;}#sk-container-id-1 div.sk-toggleable__content {max-height: 0;max-width: 0;overflow: hidden;text-align: left;background-color: #f0f8ff;}#sk-container-id-1 div.sk-toggleable__content pre {margin: 0.2em;color: black;border-radius: 0.25em;background-color: #f0f8ff;}#sk-container-id-1 input.sk-toggleable__control:checked~div.sk-toggleable__content {max-height: 200px;max-width: 100%;overflow: auto;}#sk-container-id-1 input.sk-toggleable__control:checked~label.sk-toggleable__label-arrow:before {content: \"▾\";}#sk-container-id-1 div.sk-estimator input.sk-toggleable__control:checked~label.sk-toggleable__label {background-color: #d4ebff;}#sk-container-id-1 div.sk-label input.sk-toggleable__control:checked~label.sk-toggleable__label {background-color: #d4ebff;}#sk-container-id-1 input.sk-hidden--visually {border: 0;clip: rect(1px 1px 1px 1px);clip: rect(1px, 1px, 1px, 1px);height: 1px;margin: -1px;overflow: hidden;padding: 0;position: absolute;width: 1px;}#sk-container-id-1 div.sk-estimator {font-family: monospace;background-color: #f0f8ff;border: 1px dotted black;border-radius: 0.25em;box-sizing: border-box;margin-bottom: 0.5em;}#sk-container-id-1 div.sk-estimator:hover {background-color: #d4ebff;}#sk-container-id-1 div.sk-parallel-item::after {content: \"\";width: 100%;border-bottom: 1px solid gray;flex-grow: 1;}#sk-container-id-1 div.sk-label:hover label.sk-toggleable__label {background-color: #d4ebff;}#sk-container-id-1 div.sk-serial::before {content: \"\";position: absolute;border-left: 1px solid gray;box-sizing: border-box;top: 0;bottom: 0;left: 50%;z-index: 0;}#sk-container-id-1 div.sk-serial {display: flex;flex-direction: column;align-items: center;background-color: white;padding-right: 0.2em;padding-left: 0.2em;position: relative;}#sk-container-id-1 div.sk-item {position: relative;z-index: 1;}#sk-container-id-1 div.sk-parallel {display: flex;align-items: stretch;justify-content: center;background-color: white;position: relative;}#sk-container-id-1 div.sk-item::before, #sk-container-id-1 div.sk-parallel-item::before {content: \"\";position: absolute;border-left: 1px solid gray;box-sizing: border-box;top: 0;bottom: 0;left: 50%;z-index: -1;}#sk-container-id-1 div.sk-parallel-item {display: flex;flex-direction: column;z-index: 1;position: relative;background-color: white;}#sk-container-id-1 div.sk-parallel-item:first-child::after {align-self: flex-end;width: 50%;}#sk-container-id-1 div.sk-parallel-item:last-child::after {align-self: flex-start;width: 50%;}#sk-container-id-1 div.sk-parallel-item:only-child::after {width: 0;}#sk-container-id-1 div.sk-dashed-wrapped {border: 1px dashed gray;margin: 0 0.4em 0.5em 0.4em;box-sizing: border-box;padding-bottom: 0.4em;background-color: white;}#sk-container-id-1 div.sk-label label {font-family: monospace;font-weight: bold;display: inline-block;line-height: 1.2em;}#sk-container-id-1 div.sk-label-container {text-align: center;}#sk-container-id-1 div.sk-container {/* jupyter's `normalize.less` sets `[hidden] { display: none; }` but bootstrap.min.css set `[hidden] { display: none !important; }` so we also need the `!important` here to be able to override the default hidden behavior on the sphinx rendered scikit-learn.org. See: https://github.com/scikit-learn/scikit-learn/issues/21755 */display: inline-block !important;position: relative;}#sk-container-id-1 div.sk-text-repr-fallback {display: none;}</style><div id=\"sk-container-id-1\" class=\"sk-top-container\"><div class=\"sk-text-repr-fallback\"><pre>KNeighborsClassifier(n_neighbors=3)</pre><b>In a Jupyter environment, please rerun this cell to show the HTML representation or trust the notebook. <br />On GitHub, the HTML representation is unable to render, please try loading this page with nbviewer.org.</b></div><div class=\"sk-container\" hidden><div class=\"sk-item\"><div class=\"sk-estimator sk-toggleable\"><input class=\"sk-toggleable__control sk-hidden--visually\" id=\"sk-estimator-id-1\" type=\"checkbox\" checked><label for=\"sk-estimator-id-1\" class=\"sk-toggleable__label sk-toggleable__label-arrow\">KNeighborsClassifier</label><div class=\"sk-toggleable__content\"><pre>KNeighborsClassifier(n_neighbors=3)</pre></div></div></div></div></div>"
      ],
      "text/plain": [
       "KNeighborsClassifier(n_neighbors=3)"
      ]
     },
     "execution_count": 21,
     "metadata": {},
     "output_type": "execute_result"
    }
   ],
   "source": [
    "# fitting the K-Nearest Neighbor algorithm on the train set with n_neighbor parameter to be 3\n",
    "from sklearn.neighbors import KNeighborsClassifier\n",
    "neigh = KNeighborsClassifier(n_neighbors=3)\n",
    "neigh.fit(X_train, Y_train)"
   ]
  },
  {
   "cell_type": "code",
   "execution_count": 22,
   "id": "2d564406-921b-4a7f-9c30-96d1086b8b43",
   "metadata": {},
   "outputs": [],
   "source": [
    "# Predictting on the fitted model\n",
    "y_pred = neigh.predict(X_test)"
   ]
  },
  {
   "cell_type": "code",
   "execution_count": 23,
   "id": "8fa0c094-1c6e-4b15-a1b2-d777cf756b56",
   "metadata": {},
   "outputs": [
    {
     "data": {
      "text/plain": [
       "array([1, 1, 1, 1, 1, 1, 1, 1, 0, 1, 1, 0, 0, 1, 0, 0, 1, 1, 1, 1, 1, 1,\n",
       "       1, 0, 1, 1, 1, 0, 1, 1, 1, 1, 0, 0, 1, 1, 1, 1, 1, 0, 0, 0, 1, 1,\n",
       "       1, 0, 1, 1, 1, 1, 1, 1, 1, 1, 0, 1, 1, 1, 0, 1, 1, 1, 1, 0, 1, 1,\n",
       "       1, 1, 1, 1, 1, 1, 1, 1, 1, 1, 1, 1, 1, 1, 1, 1, 1, 1, 0, 1, 1, 1,\n",
       "       1, 1, 1, 1, 1, 1, 0, 1])"
      ]
     },
     "execution_count": 23,
     "metadata": {},
     "output_type": "execute_result"
    }
   ],
   "source": [
    "# The predicted label\n",
    "y_pred"
   ]
  },
  {
   "cell_type": "code",
   "execution_count": 24,
   "id": "7a69f4b6-273c-4023-ac17-14aa860a31e0",
   "metadata": {},
   "outputs": [
    {
     "data": {
      "text/plain": [
       "array([1, 0, 1, 1, 0, 0, 1, 1, 0, 0, 1, 0, 0, 1, 0, 1, 1, 1, 1, 1, 1, 1,\n",
       "       1, 0, 0, 1, 1, 0, 1, 1, 1, 0, 0, 0, 1, 0, 1, 0, 1, 1, 0, 0, 0, 1,\n",
       "       0, 0, 1, 0, 1, 1, 1, 0, 0, 1, 0, 1, 1, 0, 0, 1, 1, 1, 1, 1, 1, 1,\n",
       "       0, 1, 1, 1, 1, 1, 1, 1, 0, 1, 1, 1, 0, 0, 1, 1, 1, 1, 0, 1, 1, 1,\n",
       "       0, 1, 1, 1, 0, 1, 1, 0])"
      ]
     },
     "execution_count": 24,
     "metadata": {},
     "output_type": "execute_result"
    }
   ],
   "source": [
    "# The actual label\n",
    "Y_test"
   ]
  },
  {
   "cell_type": "code",
   "execution_count": 25,
   "id": "e5c6745c-c20e-4ee4-a68f-957fb28d31de",
   "metadata": {},
   "outputs": [
    {
     "name": "stdout",
     "output_type": "stream",
     "text": [
      "Jaccard_score: 0.6951219512195121\n",
      "f1_score: 0.8201438848920862\n",
      "log_loss: 8.994647931445845\n"
     ]
    }
   ],
   "source": [
    "# Evaluating the model using Jaccard_score, f1_score, log_loss\n",
    "from sklearn.metrics import jaccard_score, f1_score, log_loss\n",
    "\n",
    "kjaccard = jaccard_score(Y_test, y_pred)\n",
    "kf1 = f1_score(Y_test, y_pred)\n",
    "klglss = log_loss(Y_test, y_pred)\n",
    "print ('Jaccard_score:', kjaccard)\n",
    "print ('f1_score:', kf1)\n",
    "print ('log_loss:', klglss)"
   ]
  },
  {
   "cell_type": "code",
   "execution_count": 26,
   "id": "6c95999f-9d2d-45a4-8ce3-e9b53789d525",
   "metadata": {},
   "outputs": [
    {
     "name": "stdout",
     "output_type": "stream",
     "text": [
      "Jaccard_score: [0.57317073 0.55128205 0.69512195 0.67901235 0.70731707 0.70731707\n",
      " 0.7195122  0.7195122  0.7195122 ]\n",
      "f1_score: [0.72868217 0.7107438  0.82014388 0.80882353 0.82857143 0.82857143\n",
      " 0.83687943 0.83687943 0.83687943]\n",
      "log_loss: [12.59243714 12.59240382  8.99464793  9.35441852  8.63486901  8.63486901\n",
      "  8.27509009  8.27509009  8.27509009]\n"
     ]
    }
   ],
   "source": [
    "# Refitting the KNN the train set for range of n_neighbor values to optimize the model\n",
    "ks = 10\n",
    "# creating 0 value list for the different evaluation metrics\n",
    "kjd_score = np.zeros((ks-1))\n",
    "kf1score = np.zeros((ks-1))\n",
    "klg_loss= np.zeros((ks-1))\n",
    "\n",
    "# loopign through the different n_neighbor values\n",
    "for n in range(1, ks):\n",
    "    neigh = KNeighborsClassifier(n_neighbors = n)\n",
    "    \n",
    "    # fitting the model on the different n_neighbor values\n",
    "    neigh.fit(X_train, Y_train)\n",
    "    \n",
    "    # making prediction\n",
    "    y_pred = neigh.predict(X_test)\n",
    "    \n",
    "    # assigning the metric values to the 0 values list created\n",
    "    kjd_score[n-1] = jaccard_score(Y_test, y_pred)\n",
    "    kf1score[n-1] = f1_score(Y_test, y_pred)\n",
    "    klg_loss[n-1] = log_loss(Y_test, y_pred)\n",
    "    \n",
    "    \n",
    "print ('Jaccard_score:', kjd_score)\n",
    "print ('f1_score:', kf1score)\n",
    "print ('log_loss:', klg_loss)"
   ]
  },
  {
   "cell_type": "markdown",
   "id": "8a6f20cf-5c3f-4caf-a80b-2aaa11fc7af1",
   "metadata": {},
   "source": [
    "**The model perform very well for n_neighbor values 0f `7` , `8`, `9`**"
   ]
  },
  {
   "cell_type": "markdown",
   "id": "a83df8a2-9112-4a72-b383-2129be74ff02",
   "metadata": {},
   "source": [
    "# Decision Tree"
   ]
  },
  {
   "cell_type": "code",
   "execution_count": 27,
   "id": "e4fd58d5-dfcc-492b-98ec-76ce3ae5e446",
   "metadata": {},
   "outputs": [
    {
     "data": {
      "text/html": [
       "<style>#sk-container-id-2 {color: black;background-color: white;}#sk-container-id-2 pre{padding: 0;}#sk-container-id-2 div.sk-toggleable {background-color: white;}#sk-container-id-2 label.sk-toggleable__label {cursor: pointer;display: block;width: 100%;margin-bottom: 0;padding: 0.3em;box-sizing: border-box;text-align: center;}#sk-container-id-2 label.sk-toggleable__label-arrow:before {content: \"▸\";float: left;margin-right: 0.25em;color: #696969;}#sk-container-id-2 label.sk-toggleable__label-arrow:hover:before {color: black;}#sk-container-id-2 div.sk-estimator:hover label.sk-toggleable__label-arrow:before {color: black;}#sk-container-id-2 div.sk-toggleable__content {max-height: 0;max-width: 0;overflow: hidden;text-align: left;background-color: #f0f8ff;}#sk-container-id-2 div.sk-toggleable__content pre {margin: 0.2em;color: black;border-radius: 0.25em;background-color: #f0f8ff;}#sk-container-id-2 input.sk-toggleable__control:checked~div.sk-toggleable__content {max-height: 200px;max-width: 100%;overflow: auto;}#sk-container-id-2 input.sk-toggleable__control:checked~label.sk-toggleable__label-arrow:before {content: \"▾\";}#sk-container-id-2 div.sk-estimator input.sk-toggleable__control:checked~label.sk-toggleable__label {background-color: #d4ebff;}#sk-container-id-2 div.sk-label input.sk-toggleable__control:checked~label.sk-toggleable__label {background-color: #d4ebff;}#sk-container-id-2 input.sk-hidden--visually {border: 0;clip: rect(1px 1px 1px 1px);clip: rect(1px, 1px, 1px, 1px);height: 1px;margin: -1px;overflow: hidden;padding: 0;position: absolute;width: 1px;}#sk-container-id-2 div.sk-estimator {font-family: monospace;background-color: #f0f8ff;border: 1px dotted black;border-radius: 0.25em;box-sizing: border-box;margin-bottom: 0.5em;}#sk-container-id-2 div.sk-estimator:hover {background-color: #d4ebff;}#sk-container-id-2 div.sk-parallel-item::after {content: \"\";width: 100%;border-bottom: 1px solid gray;flex-grow: 1;}#sk-container-id-2 div.sk-label:hover label.sk-toggleable__label {background-color: #d4ebff;}#sk-container-id-2 div.sk-serial::before {content: \"\";position: absolute;border-left: 1px solid gray;box-sizing: border-box;top: 0;bottom: 0;left: 50%;z-index: 0;}#sk-container-id-2 div.sk-serial {display: flex;flex-direction: column;align-items: center;background-color: white;padding-right: 0.2em;padding-left: 0.2em;position: relative;}#sk-container-id-2 div.sk-item {position: relative;z-index: 1;}#sk-container-id-2 div.sk-parallel {display: flex;align-items: stretch;justify-content: center;background-color: white;position: relative;}#sk-container-id-2 div.sk-item::before, #sk-container-id-2 div.sk-parallel-item::before {content: \"\";position: absolute;border-left: 1px solid gray;box-sizing: border-box;top: 0;bottom: 0;left: 50%;z-index: -1;}#sk-container-id-2 div.sk-parallel-item {display: flex;flex-direction: column;z-index: 1;position: relative;background-color: white;}#sk-container-id-2 div.sk-parallel-item:first-child::after {align-self: flex-end;width: 50%;}#sk-container-id-2 div.sk-parallel-item:last-child::after {align-self: flex-start;width: 50%;}#sk-container-id-2 div.sk-parallel-item:only-child::after {width: 0;}#sk-container-id-2 div.sk-dashed-wrapped {border: 1px dashed gray;margin: 0 0.4em 0.5em 0.4em;box-sizing: border-box;padding-bottom: 0.4em;background-color: white;}#sk-container-id-2 div.sk-label label {font-family: monospace;font-weight: bold;display: inline-block;line-height: 1.2em;}#sk-container-id-2 div.sk-label-container {text-align: center;}#sk-container-id-2 div.sk-container {/* jupyter's `normalize.less` sets `[hidden] { display: none; }` but bootstrap.min.css set `[hidden] { display: none !important; }` so we also need the `!important` here to be able to override the default hidden behavior on the sphinx rendered scikit-learn.org. See: https://github.com/scikit-learn/scikit-learn/issues/21755 */display: inline-block !important;position: relative;}#sk-container-id-2 div.sk-text-repr-fallback {display: none;}</style><div id=\"sk-container-id-2\" class=\"sk-top-container\"><div class=\"sk-text-repr-fallback\"><pre>DecisionTreeClassifier(criterion=&#x27;entropy&#x27;, max_depth=4)</pre><b>In a Jupyter environment, please rerun this cell to show the HTML representation or trust the notebook. <br />On GitHub, the HTML representation is unable to render, please try loading this page with nbviewer.org.</b></div><div class=\"sk-container\" hidden><div class=\"sk-item\"><div class=\"sk-estimator sk-toggleable\"><input class=\"sk-toggleable__control sk-hidden--visually\" id=\"sk-estimator-id-2\" type=\"checkbox\" checked><label for=\"sk-estimator-id-2\" class=\"sk-toggleable__label sk-toggleable__label-arrow\">DecisionTreeClassifier</label><div class=\"sk-toggleable__content\"><pre>DecisionTreeClassifier(criterion=&#x27;entropy&#x27;, max_depth=4)</pre></div></div></div></div></div>"
      ],
      "text/plain": [
       "DecisionTreeClassifier(criterion='entropy', max_depth=4)"
      ]
     },
     "execution_count": 27,
     "metadata": {},
     "output_type": "execute_result"
    }
   ],
   "source": [
    "# Fitting DecisionTreeClassifier algorithm on the train set with criterion para to be \"entropy\" and max_depth to be 4\n",
    "from sklearn.tree import DecisionTreeClassifier\n",
    "dtc = DecisionTreeClassifier(criterion=\"entropy\", max_depth=4)\n",
    "dtc.fit(X_train, Y_train)"
   ]
  },
  {
   "cell_type": "code",
   "execution_count": 28,
   "id": "8e8060b9-0b0a-4230-a2a5-3b5524819f32",
   "metadata": {},
   "outputs": [],
   "source": [
    "#Making prediction on the model\n",
    "tree_pred = dtc.predict(X_test)"
   ]
  },
  {
   "cell_type": "code",
   "execution_count": 29,
   "id": "714244f2-0ea5-433d-9b91-a1af636c0054",
   "metadata": {},
   "outputs": [
    {
     "data": {
      "text/plain": [
       "array([1, 1, 1, 1, 1, 1, 0, 1, 0, 1, 1, 0, 0, 1, 0, 0, 1, 1, 1, 1, 1, 1,\n",
       "       1, 0, 1, 1, 1, 0, 1, 1, 1, 1, 0, 0, 1, 1, 1, 1, 1, 0, 0, 0, 1, 1,\n",
       "       1, 0, 1, 1, 1, 1, 1, 1, 1, 1, 0, 1, 1, 1, 0, 1, 1, 1, 1, 1, 1, 0,\n",
       "       1, 1, 1, 1, 1, 1, 1, 1, 1, 1, 1, 1, 1, 1, 1, 1, 1, 0, 0, 1, 1, 1,\n",
       "       1, 1, 1, 1, 1, 1, 1, 1])"
      ]
     },
     "execution_count": 29,
     "metadata": {},
     "output_type": "execute_result"
    }
   ],
   "source": [
    "# The predicted label\n",
    "tree_pred"
   ]
  },
  {
   "cell_type": "code",
   "execution_count": 30,
   "id": "0cccf9be-968e-43cc-ab83-a234c89e1490",
   "metadata": {},
   "outputs": [
    {
     "data": {
      "text/plain": [
       "array([1, 0, 1, 1, 0, 0, 1, 1, 0, 0, 1, 0, 0, 1, 0, 1, 1, 1, 1, 1, 1, 1,\n",
       "       1, 0, 0, 1, 1, 0, 1, 1, 1, 0, 0, 0, 1, 0, 1, 0, 1, 1, 0, 0, 0, 1,\n",
       "       0, 0, 1, 0, 1, 1, 1, 0, 0, 1, 0, 1, 1, 0, 0, 1, 1, 1, 1, 1, 1, 1,\n",
       "       0, 1, 1, 1, 1, 1, 1, 1, 0, 1, 1, 1, 0, 0, 1, 1, 1, 1, 0, 1, 1, 1,\n",
       "       0, 1, 1, 1, 0, 1, 1, 0])"
      ]
     },
     "execution_count": 30,
     "metadata": {},
     "output_type": "execute_result"
    }
   ],
   "source": [
    "# The actual label\n",
    "Y_test"
   ]
  },
  {
   "cell_type": "code",
   "execution_count": 31,
   "id": "d6d32d25-afdd-4b25-93f4-f562617b356a",
   "metadata": {},
   "outputs": [
    {
     "name": "stdout",
     "output_type": "stream",
     "text": [
      "Jaccard_score: 0.6829268292682927\n",
      "f1_score: 0.8115942028985508\n",
      "log_loss: 9.354426852226164\n"
     ]
    }
   ],
   "source": [
    "# Evaluating the decision tree model\n",
    "tjaccard = jaccard_score(Y_test, tree_pred)\n",
    "tf1 = f1_score(Y_test, tree_pred)\n",
    "tlglss = log_loss(Y_test, tree_pred)\n",
    "print ('Jaccard_score:', tjaccard)\n",
    "print ('f1_score:', tf1)\n",
    "print ('log_loss:', tlglss)"
   ]
  },
  {
   "cell_type": "code",
   "execution_count": 32,
   "id": "95da652d-d6c7-43a5-9c01-5703c2e2895a",
   "metadata": {},
   "outputs": [
    {
     "data": {
      "image/png": "[encoded data removed]",
      "text/plain": [
       "<Figure size 432x288 with 1 Axes>"
      ]
     },
     "metadata": {
      "needs_background": "light"
     },
     "output_type": "display_data"
    }
   ],
   "source": [
    "# Plotting the model\n",
    "from sklearn.tree import plot_tree\n",
    "plot_tree(dtc);"
   ]
  },
  {
   "cell_type": "code",
   "execution_count": 33,
   "id": "5fa237e3-4943-4d6e-bde4-53c0de6491b0",
   "metadata": {},
   "outputs": [
    {
     "data": {
      "text/html": [
       "<style>#sk-container-id-3 {color: black;background-color: white;}#sk-container-id-3 pre{padding: 0;}#sk-container-id-3 div.sk-toggleable {background-color: white;}#sk-container-id-3 label.sk-toggleable__label {cursor: pointer;display: block;width: 100%;margin-bottom: 0;padding: 0.3em;box-sizing: border-box;text-align: center;}#sk-container-id-3 label.sk-toggleable__label-arrow:before {content: \"▸\";float: left;margin-right: 0.25em;color: #696969;}#sk-container-id-3 label.sk-toggleable__label-arrow:hover:before {color: black;}#sk-container-id-3 div.sk-estimator:hover label.sk-toggleable__label-arrow:before {color: black;}#sk-container-id-3 div.sk-toggleable__content {max-height: 0;max-width: 0;overflow: hidden;text-align: left;background-color: #f0f8ff;}#sk-container-id-3 div.sk-toggleable__content pre {margin: 0.2em;color: black;border-radius: 0.25em;background-color: #f0f8ff;}#sk-container-id-3 input.sk-toggleable__control:checked~div.sk-toggleable__content {max-height: 200px;max-width: 100%;overflow: auto;}#sk-container-id-3 input.sk-toggleable__control:checked~label.sk-toggleable__label-arrow:before {content: \"▾\";}#sk-container-id-3 div.sk-estimator input.sk-toggleable__control:checked~label.sk-toggleable__label {background-color: #d4ebff;}#sk-container-id-3 div.sk-label input.sk-toggleable__control:checked~label.sk-toggleable__label {background-color: #d4ebff;}#sk-container-id-3 input.sk-hidden--visually {border: 0;clip: rect(1px 1px 1px 1px);clip: rect(1px, 1px, 1px, 1px);height: 1px;margin: -1px;overflow: hidden;padding: 0;position: absolute;width: 1px;}#sk-container-id-3 div.sk-estimator {font-family: monospace;background-color: #f0f8ff;border: 1px dotted black;border-radius: 0.25em;box-sizing: border-box;margin-bottom: 0.5em;}#sk-container-id-3 div.sk-estimator:hover {background-color: #d4ebff;}#sk-container-id-3 div.sk-parallel-item::after {content: \"\";width: 100%;border-bottom: 1px solid gray;flex-grow: 1;}#sk-container-id-3 div.sk-label:hover label.sk-toggleable__label {background-color: #d4ebff;}#sk-container-id-3 div.sk-serial::before {content: \"\";position: absolute;border-left: 1px solid gray;box-sizing: border-box;top: 0;bottom: 0;left: 50%;z-index: 0;}#sk-container-id-3 div.sk-serial {display: flex;flex-direction: column;align-items: center;background-color: white;padding-right: 0.2em;padding-left: 0.2em;position: relative;}#sk-container-id-3 div.sk-item {position: relative;z-index: 1;}#sk-container-id-3 div.sk-parallel {display: flex;align-items: stretch;justify-content: center;background-color: white;position: relative;}#sk-container-id-3 div.sk-item::before, #sk-container-id-3 div.sk-parallel-item::before {content: \"\";position: absolute;border-left: 1px solid gray;box-sizing: border-box;top: 0;bottom: 0;left: 50%;z-index: -1;}#sk-container-id-3 div.sk-parallel-item {display: flex;flex-direction: column;z-index: 1;position: relative;background-color: white;}#sk-container-id-3 div.sk-parallel-item:first-child::after {align-self: flex-end;width: 50%;}#sk-container-id-3 div.sk-parallel-item:last-child::after {align-self: flex-start;width: 50%;}#sk-container-id-3 div.sk-parallel-item:only-child::after {width: 0;}#sk-container-id-3 div.sk-dashed-wrapped {border: 1px dashed gray;margin: 0 0.4em 0.5em 0.4em;box-sizing: border-box;padding-bottom: 0.4em;background-color: white;}#sk-container-id-3 div.sk-label label {font-family: monospace;font-weight: bold;display: inline-block;line-height: 1.2em;}#sk-container-id-3 div.sk-label-container {text-align: center;}#sk-container-id-3 div.sk-container {/* jupyter's `normalize.less` sets `[hidden] { display: none; }` but bootstrap.min.css set `[hidden] { display: none !important; }` so we also need the `!important` here to be able to override the default hidden behavior on the sphinx rendered scikit-learn.org. See: https://github.com/scikit-learn/scikit-learn/issues/21755 */display: inline-block !important;position: relative;}#sk-container-id-3 div.sk-text-repr-fallback {display: none;}</style><div id=\"sk-container-id-3\" class=\"sk-top-container\"><div class=\"sk-text-repr-fallback\"><pre>DecisionTreeClassifier(criterion=&#x27;entropy&#x27;, max_depth=6)</pre><b>In a Jupyter environment, please rerun this cell to show the HTML representation or trust the notebook. <br />On GitHub, the HTML representation is unable to render, please try loading this page with nbviewer.org.</b></div><div class=\"sk-container\" hidden><div class=\"sk-item\"><div class=\"sk-estimator sk-toggleable\"><input class=\"sk-toggleable__control sk-hidden--visually\" id=\"sk-estimator-id-3\" type=\"checkbox\" checked><label for=\"sk-estimator-id-3\" class=\"sk-toggleable__label sk-toggleable__label-arrow\">DecisionTreeClassifier</label><div class=\"sk-toggleable__content\"><pre>DecisionTreeClassifier(criterion=&#x27;entropy&#x27;, max_depth=6)</pre></div></div></div></div></div>"
      ],
      "text/plain": [
       "DecisionTreeClassifier(criterion='entropy', max_depth=6)"
      ]
     },
     "execution_count": 33,
     "metadata": {},
     "output_type": "execute_result"
    }
   ],
   "source": [
    "# Refitting the model on with different max_depth values\n",
    "dtc = DecisionTreeClassifier(criterion=\"entropy\", max_depth=6)\n",
    "dtc.fit(X_train, Y_train)"
   ]
  },
  {
   "cell_type": "code",
   "execution_count": 34,
   "id": "df361311-a6df-4f82-befb-5cdb5411d6b6",
   "metadata": {},
   "outputs": [],
   "source": [
    "tree_pred = dtc.predict(X_test)"
   ]
  },
  {
   "cell_type": "code",
   "execution_count": 35,
   "id": "73f9bd7a-8bf7-45a7-9f62-d07a61a5dbf5",
   "metadata": {},
   "outputs": [
    {
     "data": {
      "text/plain": [
       "array([1, 1, 1, 1, 1, 1, 0, 1, 0, 1, 1, 0, 0, 1, 1, 0, 1, 1, 1, 1, 1, 1,\n",
       "       1, 0, 1, 1, 1, 0, 1, 1, 1, 1, 0, 0, 1, 1, 1, 1, 1, 0, 0, 0, 1, 1,\n",
       "       1, 0, 1, 1, 1, 1, 1, 1, 1, 1, 1, 1, 1, 1, 0, 1, 1, 1, 1, 1, 1, 0,\n",
       "       1, 1, 1, 1, 1, 1, 1, 1, 1, 1, 1, 1, 1, 1, 1, 1, 1, 0, 0, 1, 1, 1,\n",
       "       1, 1, 1, 1, 1, 1, 1, 1])"
      ]
     },
     "execution_count": 35,
     "metadata": {},
     "output_type": "execute_result"
    }
   ],
   "source": [
    "tree_pred"
   ]
  },
  {
   "cell_type": "code",
   "execution_count": 36,
   "id": "03d34f3d-bb06-4b5c-af03-d5f7f2568f54",
   "metadata": {},
   "outputs": [
    {
     "data": {
      "text/plain": [
       "array([1, 0, 1, 1, 0, 0, 1, 1, 0, 0, 1, 0, 0, 1, 0, 1, 1, 1, 1, 1, 1, 1,\n",
       "       1, 0, 0, 1, 1, 0, 1, 1, 1, 0, 0, 0, 1, 0, 1, 0, 1, 1, 0, 0, 0, 1,\n",
       "       0, 0, 1, 0, 1, 1, 1, 0, 0, 1, 0, 1, 1, 0, 0, 1, 1, 1, 1, 1, 1, 1,\n",
       "       0, 1, 1, 1, 1, 1, 1, 1, 0, 1, 1, 1, 0, 0, 1, 1, 1, 1, 0, 1, 1, 1,\n",
       "       0, 1, 1, 1, 0, 1, 1, 0])"
      ]
     },
     "execution_count": 36,
     "metadata": {},
     "output_type": "execute_result"
    }
   ],
   "source": [
    "Y_test"
   ]
  },
  {
   "cell_type": "code",
   "execution_count": 37,
   "id": "4b6817b3-b109-4f34-84fc-758e1d98118b",
   "metadata": {},
   "outputs": [
    {
     "name": "stdout",
     "output_type": "stream",
     "text": [
      "Jaccard_score: 0.6666666666666666\n",
      "f1_score: 0.8000000000000002\n",
      "log_loss: 10.0740013520666\n"
     ]
    }
   ],
   "source": [
    "# Evaluating\n",
    "tjaccard = jaccard_score(Y_test, tree_pred)\n",
    "tf1 = f1_score(Y_test, tree_pred)\n",
    "tlglss = log_loss(Y_test, tree_pred)\n",
    "print ('Jaccard_score:', tjaccard)\n",
    "print ('f1_score:', tf1)\n",
    "print ('log_loss:', tlglss)"
   ]
  },
  {
   "cell_type": "code",
   "execution_count": 38,
   "id": "09cdff4d-465f-4a52-b7bf-44d5a6d6563d",
   "metadata": {},
   "outputs": [
    {
     "data": {
      "image/png": "[encoded data removed]",
      "text/plain": [
       "<Figure size 432x288 with 1 Axes>"
      ]
     },
     "metadata": {
      "needs_background": "light"
     },
     "output_type": "display_data"
    }
   ],
   "source": [
    "# plotting the tree\n",
    "plot_tree(dtc);\n"
   ]
  },
  {
   "cell_type": "code",
   "execution_count": 39,
   "id": "fb21f524-fcf4-4c19-b789-ee1215931d22",
   "metadata": {},
   "outputs": [
    {
     "name": "stdout",
     "output_type": "stream",
     "text": [
      "Jaccard_score: 0.6951219512195121\n",
      "f1_score: 0.8201438848920862\n",
      "log_loss: 8.994647931445845\n"
     ]
    }
   ],
   "source": [
    "# Max_depth value of 3\n",
    "dtc = DecisionTreeClassifier(criterion=\"entropy\", max_depth=3)\n",
    "dtc.fit(X_train, Y_train)\n",
    "tree_pred = dtc.predict(X_test)\n",
    "tjaccard = jaccard_score(Y_test, tree_pred)\n",
    "tf1 = f1_score(Y_test, tree_pred)\n",
    "tlglss = log_loss(Y_test, tree_pred)\n",
    "print ('Jaccard_score:', tjaccard)\n",
    "print ('f1_score:', tf1)\n",
    "print ('log_loss:', tlglss)"
   ]
  },
  {
   "cell_type": "code",
   "execution_count": 40,
   "id": "7dc3f2ac-1ebb-441b-9320-dcc3307bf5ff",
   "metadata": {},
   "outputs": [
    {
     "data": {
      "image/png": "[encoded data removed]",
      "text/plain": [
       "<Figure size 432x288 with 1 Axes>"
      ]
     },
     "metadata": {
      "needs_background": "light"
     },
     "output_type": "display_data"
    }
   ],
   "source": [
    "plot_tree(dtc);"
   ]
  },
  {
   "cell_type": "code",
   "execution_count": 41,
   "id": "688d68f1-53b9-4461-8389-8e8528759a01",
   "metadata": {},
   "outputs": [
    {
     "name": "stdout",
     "output_type": "stream",
     "text": [
      "Jaccard_score: 0.7195121951219512\n",
      "f1_score: 0.8368794326241135\n",
      "log_loss: 8.275090089885206\n"
     ]
    }
   ],
   "source": [
    "# max_depth value of 2\n",
    "dtc = DecisionTreeClassifier(criterion=\"entropy\", max_depth=2)\n",
    "dtc.fit(X_train, Y_train)\n",
    "tree_pred = dtc.predict(X_test)\n",
    "tjaccard = jaccard_score(Y_test, tree_pred)\n",
    "tf1 = f1_score(Y_test, tree_pred)\n",
    "tlglss = log_loss(Y_test, tree_pred)\n",
    "print ('Jaccard_score:', tjaccard)\n",
    "print ('f1_score:', tf1)\n",
    "print ('log_loss:', tlglss)"
   ]
  },
  {
   "cell_type": "code",
   "execution_count": 284,
   "id": "eb20d407-5fcc-473b-bec9-b5f544869545",
   "metadata": {},
   "outputs": [
    {
     "data": {
      "image/png": "[encoded data removed]",
      "text/plain": [
       "<Figure size 432x288 with 1 Axes>"
      ]
     },
     "metadata": {
      "needs_background": "light"
     },
     "output_type": "display_data"
    }
   ],
   "source": [
    "plot_tree(dtc);"
   ]
  },
  {
   "cell_type": "code",
   "execution_count": 42,
   "id": "72797ccf-6b2c-4409-8475-2b03be488df4",
   "metadata": {},
   "outputs": [
    {
     "name": "stdout",
     "output_type": "stream",
     "text": [
      "Jaccard_score: 0.7195121951219512\n",
      "f1_score: 0.8368794326241135\n",
      "log_loss: 8.275090089885206\n"
     ]
    }
   ],
   "source": [
    "# max_depth of 1\n",
    "dtc = DecisionTreeClassifier(criterion=\"entropy\", max_depth=1, )\n",
    "dtc.fit(X_train, Y_train)\n",
    "tree_pred = dtc.predict(X_test)\n",
    "tjaccard = jaccard_score(Y_test, tree_pred)\n",
    "tf1 = f1_score(Y_test, tree_pred)\n",
    "tlglss = log_loss(Y_test, tree_pred)\n",
    "print ('Jaccard_score:', tjaccard)\n",
    "print ('f1_score:', tf1)\n",
    "print ('log_loss:', tlglss)"
   ]
  },
  {
   "cell_type": "code",
   "execution_count": 43,
   "id": "361fc08a-4c6e-455f-b22d-fada97b45101",
   "metadata": {},
   "outputs": [
    {
     "name": "stdout",
     "output_type": "stream",
     "text": [
      "Jaccard_score: 0.6867469879518072\n",
      "f1_score: 0.8142857142857143\n",
      "log_loss: 9.354435181366064\n"
     ]
    }
   ],
   "source": [
    "# criterion to be \"gini\"\n",
    "dtc = DecisionTreeClassifier(criterion=\"gini\", max_depth=2, )\n",
    "dtc.fit(X_train, Y_train)\n",
    "tree_pred = dtc.predict(X_test)\n",
    "tjaccard = jaccard_score(Y_test, tree_pred)\n",
    "tf1 = f1_score(Y_test, tree_pred)\n",
    "tlglss = log_loss(Y_test, tree_pred)\n",
    "print ('Jaccard_score:', tjaccard)\n",
    "print ('f1_score:', tf1)\n",
    "print ('log_loss:', tlglss)"
   ]
  },
  {
   "cell_type": "markdown",
   "id": "bcb3a35e-18df-4f25-8095-143e4d7cb7e8",
   "metadata": {},
   "source": [
    "An increase in the max_depth value of the decision tree classifier gives a not so good evaluation score for the model\n",
    "for max_depth values of `2` and `1` the model has a relatively good evaluation score\n",
    "a chamge in the decision tree criterion also gives a bad evaluation score"
   ]
  },
  {
   "cell_type": "markdown",
   "id": "2295bf95-0ef8-4b27-9ab2-7b87325d307b",
   "metadata": {},
   "source": [
    "# Support Vector Machine"
   ]
  },
  {
   "cell_type": "code",
   "execution_count": 44,
   "id": "60a57c77-47ca-4db5-8524-57c09a5446ba",
   "metadata": {},
   "outputs": [
    {
     "name": "stdout",
     "output_type": "stream",
     "text": [
      "Jaccard_score: 0.6867469879518072\n",
      "f1_score: 0.8142857142857143\n",
      "log_loss: 9.354435181366064\n"
     ]
    }
   ],
   "source": [
    "# Fitting the SupportVectorClassifier algorithm on the train set with regulariztion value C = 0.1\n",
    "from sklearn.svm import SVC\n",
    "clf = SVC(C=0.1)\n",
    "clf.fit(X_train, Y_train)\n",
    "\n",
    "# making prediction SVC model\n",
    "svc_pred = clf.predict(X_test)\n",
    "\n",
    "# Evaluatin the model\n",
    "sjaccard = jaccard_score(Y_test, tree_pred)\n",
    "sf1 = f1_score(Y_test, tree_pred)\n",
    "slglss = log_loss(Y_test, tree_pred)\n",
    "print ('Jaccard_score:', sjaccard)\n",
    "print ('f1_score:', sf1)\n",
    "print ('log_loss:', slglss)"
   ]
  },
  {
   "cell_type": "code",
   "execution_count": 57,
   "id": "acdc2dda-79a7-48bc-9da5-19a8166107c8",
   "metadata": {},
   "outputs": [
    {
     "name": "stdout",
     "output_type": "stream",
     "text": [
      "Jaccard_score: 0.6867469879518072\n",
      "f1_score: 0.8142857142857143\n",
      "log_loss: 9.354435181366064\n"
     ]
    }
   ],
   "source": [
    "# regulariztion value C = 0.2\n",
    "from sklearn.svm import SVC\n",
    "clf = SVC(C=1, kernel=\"linear\")\n",
    "clf.fit(X_train, Y_train)\n",
    "\n",
    "# making prediction SVC model\n",
    "svc_pred = clf.predict(X_test)\n",
    "\n",
    "# Evaluatin the model\n",
    "sjaccard = jaccard_score(Y_test, tree_pred)\n",
    "sf1 = f1_score(Y_test, tree_pred)\n",
    "slglss = log_loss(Y_test, tree_pred)\n",
    "print ('Jaccard_score:', sjaccard)\n",
    "print ('f1_score:', sf1)\n",
    "print ('log_loss:', slglss)"
   ]
  },
  {
   "cell_type": "markdown",
   "id": "fe3db162-9e8b-4310-a9ab-c2ca8cadea24",
   "metadata": {},
   "source": [
    "A decrease or increase in the C values does not improve the evaluation score\n",
    "\n",
    "A change of the Kernel value from default `\"rbf\"` to `\"poly\"` , to `\"sigmoid\"` also does not improve the evaluation metrics used.\n",
    "\n",
    "So far the support vector machine perform relatively poor compare to the algorithms used."
   ]
  },
  {
   "cell_type": "markdown",
   "id": "19cb2298-1b93-4259-9266-76d33ae97cb0",
   "metadata": {},
   "source": [
    "# Logistic Regression\n"
   ]
  },
  {
   "cell_type": "code",
   "execution_count": 55,
   "id": "f3153507-085c-48a7-9fc7-9378382d4671",
   "metadata": {},
   "outputs": [
    {
     "name": "stdout",
     "output_type": "stream",
     "text": [
      "Jaccard_score: 0.7195121951219512\n",
      "f1_score: 0.8368794326241135\n",
      "log_loss: 8.275090089885206\n"
     ]
    }
   ],
   "source": [
    "# fitting the Logistic Regrssion algorithm on the train set\n",
    "from sklearn.linear_model import LogisticRegression\n",
    "lgr = LogisticRegression()\n",
    "lgr.fit(X_train, Y_train)\n",
    "\n",
    "\n",
    "# Making prediction\n",
    "lgr_pred = lgr.predict(X_test)\n",
    "\n",
    "\n",
    "# Evaluating the model\n",
    "ljaccard = jaccard_score(Y_test, lgr_pred)\n",
    "lf1 = f1_score(Y_test, lgr_pred)\n",
    "llglss = log_loss(Y_test, lgr_pred)\n",
    "print ('Jaccard_score:', ljaccard)\n",
    "print ('f1_score:', lf1)\n",
    "print ('log_loss:', llglss)"
   ]
  },
  {
   "cell_type": "markdown",
   "id": "22a27713-26d8-45e0-8612-a2b9652e8894",
   "metadata": {},
   "source": [
    "`k-Nearest Neighbour` `Decision Tree` `Logistic Regression` all provided the same evaluation score on the jaccard_score, f1_score, and log_loss metrics\n",
    "even after tunning some of the algorithm's hyper-parameters\n",
    "\n",
    "* Jaccard_score: 0.7195121951219512\n",
    "* f1_score: 0.8368794326241135\n",
    "* log_loss: 8.275090089885206\n",
    "\n",
    "`Support Vector Machine` perform relatively lower on the evaluation score than the other algorithm used \n",
    "* Jaccard_score: 0.6867469879518072\n",
    "* f1_score: 0.8142857142857143\n",
    "* log_loss: 9.354435181366064\n",
    "even after tunning some of it's hyper-parameters"
   ]
  },
  {
   "cell_type": "markdown",
   "id": "3ccf962f-0aa4-4ba9-ad64-d89f45d59814",
   "metadata": {},
   "source": [
    "from my work best classifier will any of these three `k-Nearest Neighbour` `Decision Tree` `Logistic Regression`"
   ]
  },
  {
   "cell_type": "code",
   "execution_count": null,
   "id": "01ac1aca-8079-46aa-ac5f-67c3f759c294",
   "metadata": {},
   "outputs": [],
   "source": []
  }
 ],
 "metadata": {
  "kernelspec": {
   "display_name": "Python 3 (ipykernel)",
   "language": "python",
   "name": "python3"
  },
  "language_info": {
   "codemirror_mode": {
    "name": "ipython",
    "version": 3
   },
   "file_extension": ".py",
   "mimetype": "text/x-python",
   "name": "python",
   "nbconvert_exporter": "python",
   "pygments_lexer": "ipython3",
   "version": "3.10.4"
  }
 },
 "nbformat": 4,
 "nbformat_minor": 5
}
